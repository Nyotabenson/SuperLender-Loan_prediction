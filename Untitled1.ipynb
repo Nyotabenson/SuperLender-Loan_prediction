{
 "cells": [
  {
   "cell_type": "code",
   "execution_count": 2,
   "id": "2cc2495a",
   "metadata": {},
   "outputs": [],
   "source": [
    "import pandas as pd\n",
    "import numpy as np\n",
    "import seaborn as sns\n",
    "import matplotlib.pyplot as plt\n",
    "from sklearn.preprocessing import LabelEncoder\n",
    "import category_encoders as ce\n",
    "from sklearn.model_selection import train_test_split\n",
    "from sklearn.ensemble import RandomForestClassifier\n",
    "from imblearn.over_sampling import SMOTE\n",
    "from imblearn.pipeline import Pipeline\n",
    "from sklearn.metrics import confusion_matrix, precision_score, recall_score, f1_score, accuracy_score, roc_auc_score\n",
    "import scipy.stats as stats\n",
    "from sklearn.preprocessing import StandardScaler, MinMaxScaler, MaxAbsScaler, QuantileTransformer\n",
    "\n",
    "from datetime import datetime\n",
    "from datetime import date\n",
    "\n",
    "\n",
    "pd.set_option('display.max_columns', None)\n",
    "%matplotlib inline\n",
    "sns.set_theme(style = \"darkgrid\")\n",
    "import warnings\n",
    "warnings.filterwarnings('ignore')"
   ]
  },
  {
   "cell_type": "code",
   "execution_count": 3,
   "id": "24b70e45",
   "metadata": {},
   "outputs": [],
   "source": [
    "sns.set()"
   ]
  },
  {
   "cell_type": "code",
   "execution_count": 4,
   "id": "d90f24ef",
   "metadata": {},
   "outputs": [],
   "source": [
    "# loading dataset"
   ]
  },
  {
   "cell_type": "code",
   "execution_count": 4,
   "id": "13ad18c6",
   "metadata": {},
   "outputs": [],
   "source": [
    "#train dataset\n",
    "trainperf_df = pd.read_csv(\"trainperf.csv\")\n",
    "trainprevloans_df = pd.read_csv(\"trainprevloans.csv\")\n",
    "traindemographics_df = pd.read_csv(\"traindemographics.csv\")\n",
    "\n",
    "#test dataset\n",
    "testprevloans_df = pd.read_csv(\"testprevloans.csv\")\n",
    "testperf_df = pd.read_csv(\"testperf.csv\")\n",
    "testdemographics_df = pd.read_csv(\"testdemographics.csv\")"
   ]
  },
  {
   "cell_type": "code",
   "execution_count": 6,
   "id": "4cb77690",
   "metadata": {},
   "outputs": [],
   "source": [
    "# trainpef_df dataset"
   ]
  },
  {
   "cell_type": "code",
   "execution_count": 7,
   "id": "5bf034cb",
   "metadata": {},
   "outputs": [
    {
     "name": "stdout",
     "output_type": "stream",
     "text": [
      "(4368, 10)\n"
     ]
    },
    {
     "data": {
      "text/html": [
       "<div>\n",
       "<style scoped>\n",
       "    .dataframe tbody tr th:only-of-type {\n",
       "        vertical-align: middle;\n",
       "    }\n",
       "\n",
       "    .dataframe tbody tr th {\n",
       "        vertical-align: top;\n",
       "    }\n",
       "\n",
       "    .dataframe thead th {\n",
       "        text-align: right;\n",
       "    }\n",
       "</style>\n",
       "<table border=\"1\" class=\"dataframe\">\n",
       "  <thead>\n",
       "    <tr style=\"text-align: right;\">\n",
       "      <th></th>\n",
       "      <th>customerid</th>\n",
       "      <th>systemloanid</th>\n",
       "      <th>loannumber</th>\n",
       "      <th>approveddate</th>\n",
       "      <th>creationdate</th>\n",
       "      <th>loanamount</th>\n",
       "      <th>totaldue</th>\n",
       "      <th>termdays</th>\n",
       "      <th>referredby</th>\n",
       "      <th>good_bad_flag</th>\n",
       "    </tr>\n",
       "  </thead>\n",
       "  <tbody>\n",
       "    <tr>\n",
       "      <th>0</th>\n",
       "      <td>8a2a81a74ce8c05d014cfb32a0da1049</td>\n",
       "      <td>301994762</td>\n",
       "      <td>12</td>\n",
       "      <td>2017-07-25 08:22:56.000000</td>\n",
       "      <td>2017-07-25 07:22:47.000000</td>\n",
       "      <td>30000.0</td>\n",
       "      <td>34500.0</td>\n",
       "      <td>30</td>\n",
       "      <td>NaN</td>\n",
       "      <td>Good</td>\n",
       "    </tr>\n",
       "    <tr>\n",
       "      <th>1</th>\n",
       "      <td>8a85886e54beabf90154c0a29ae757c0</td>\n",
       "      <td>301965204</td>\n",
       "      <td>2</td>\n",
       "      <td>2017-07-05 17:04:41.000000</td>\n",
       "      <td>2017-07-05 16:04:18.000000</td>\n",
       "      <td>15000.0</td>\n",
       "      <td>17250.0</td>\n",
       "      <td>30</td>\n",
       "      <td>NaN</td>\n",
       "      <td>Good</td>\n",
       "    </tr>\n",
       "    <tr>\n",
       "      <th>2</th>\n",
       "      <td>8a8588f35438fe12015444567666018e</td>\n",
       "      <td>301966580</td>\n",
       "      <td>7</td>\n",
       "      <td>2017-07-06 14:52:57.000000</td>\n",
       "      <td>2017-07-06 13:52:51.000000</td>\n",
       "      <td>20000.0</td>\n",
       "      <td>22250.0</td>\n",
       "      <td>15</td>\n",
       "      <td>NaN</td>\n",
       "      <td>Good</td>\n",
       "    </tr>\n",
       "    <tr>\n",
       "      <th>3</th>\n",
       "      <td>8a85890754145ace015429211b513e16</td>\n",
       "      <td>301999343</td>\n",
       "      <td>3</td>\n",
       "      <td>2017-07-27 19:00:41.000000</td>\n",
       "      <td>2017-07-27 18:00:35.000000</td>\n",
       "      <td>10000.0</td>\n",
       "      <td>11500.0</td>\n",
       "      <td>15</td>\n",
       "      <td>NaN</td>\n",
       "      <td>Good</td>\n",
       "    </tr>\n",
       "    <tr>\n",
       "      <th>4</th>\n",
       "      <td>8a858970548359cc0154883481981866</td>\n",
       "      <td>301962360</td>\n",
       "      <td>9</td>\n",
       "      <td>2017-07-03 23:42:45.000000</td>\n",
       "      <td>2017-07-03 22:42:39.000000</td>\n",
       "      <td>40000.0</td>\n",
       "      <td>44000.0</td>\n",
       "      <td>30</td>\n",
       "      <td>NaN</td>\n",
       "      <td>Good</td>\n",
       "    </tr>\n",
       "  </tbody>\n",
       "</table>\n",
       "</div>"
      ],
      "text/plain": [
       "                         customerid  systemloanid  loannumber  \\\n",
       "0  8a2a81a74ce8c05d014cfb32a0da1049     301994762          12   \n",
       "1  8a85886e54beabf90154c0a29ae757c0     301965204           2   \n",
       "2  8a8588f35438fe12015444567666018e     301966580           7   \n",
       "3  8a85890754145ace015429211b513e16     301999343           3   \n",
       "4  8a858970548359cc0154883481981866     301962360           9   \n",
       "\n",
       "                 approveddate                creationdate  loanamount  \\\n",
       "0  2017-07-25 08:22:56.000000  2017-07-25 07:22:47.000000     30000.0   \n",
       "1  2017-07-05 17:04:41.000000  2017-07-05 16:04:18.000000     15000.0   \n",
       "2  2017-07-06 14:52:57.000000  2017-07-06 13:52:51.000000     20000.0   \n",
       "3  2017-07-27 19:00:41.000000  2017-07-27 18:00:35.000000     10000.0   \n",
       "4  2017-07-03 23:42:45.000000  2017-07-03 22:42:39.000000     40000.0   \n",
       "\n",
       "   totaldue  termdays referredby good_bad_flag  \n",
       "0   34500.0        30        NaN          Good  \n",
       "1   17250.0        30        NaN          Good  \n",
       "2   22250.0        15        NaN          Good  \n",
       "3   11500.0        15        NaN          Good  \n",
       "4   44000.0        30        NaN          Good  "
      ]
     },
     "execution_count": 7,
     "metadata": {},
     "output_type": "execute_result"
    }
   ],
   "source": [
    "print(trainperf_df.shape)\n",
    "trainperf_df.head()"
   ]
  },
  {
   "cell_type": "markdown",
   "id": "b3bd9661",
   "metadata": {},
   "source": [
    "<h2 style=\"font-size:2.5rem;color:black;\">Remarks</h2>\n",
    "\n",
    "The Following was done:\n",
    " \n",
    " - Creation of dailypremium \"amount a customer is suppossed to pay daily inorder to clear the loan on time\"\n",
    " \n",
    "It's inferred that most customer cleared their loans on time \n",
    "\n",
    "approval time was less to cutomers who had taken loans previously\n",
    "\n",
    "Dropped irrelevant features"
   ]
  },
  {
   "cell_type": "code",
   "execution_count": 9,
   "id": "9174d7e2",
   "metadata": {},
   "outputs": [
    {
     "name": "stdout",
     "output_type": "stream",
     "text": [
      "<class 'pandas.core.frame.DataFrame'>\n",
      "RangeIndex: 4368 entries, 0 to 4367\n",
      "Data columns (total 10 columns):\n",
      " #   Column         Non-Null Count  Dtype  \n",
      "---  ------         --------------  -----  \n",
      " 0   customerid     4368 non-null   object \n",
      " 1   systemloanid   4368 non-null   int64  \n",
      " 2   loannumber     4368 non-null   int64  \n",
      " 3   approveddate   4368 non-null   object \n",
      " 4   creationdate   4368 non-null   object \n",
      " 5   loanamount     4368 non-null   float64\n",
      " 6   totaldue       4368 non-null   float64\n",
      " 7   termdays       4368 non-null   int64  \n",
      " 8   referredby     587 non-null    object \n",
      " 9   good_bad_flag  4368 non-null   object \n",
      "dtypes: float64(2), int64(3), object(5)\n",
      "memory usage: 341.4+ KB\n"
     ]
    }
   ],
   "source": [
    "trainperf_df.info()"
   ]
  },
  {
   "cell_type": "code",
   "execution_count": 10,
   "id": "0d7df641",
   "metadata": {},
   "outputs": [
    {
     "name": "stdout",
     "output_type": "stream",
     "text": [
      "customerid       4368\n",
      "systemloanid     4368\n",
      "loannumber         23\n",
      "approveddate     4362\n",
      "creationdate     4364\n",
      "loanamount         10\n",
      "totaldue           47\n",
      "termdays            4\n",
      "referredby        521\n",
      "good_bad_flag       2\n",
      "dtype: int64\n"
     ]
    }
   ],
   "source": [
    "print(trainperf_df.apply(lambda col: col.nunique()))"
   ]
  },
  {
   "cell_type": "code",
   "execution_count": 11,
   "id": "fbdf021c",
   "metadata": {},
   "outputs": [],
   "source": [
    "def data_transform(trainperf):\n",
    " \n",
    "    trainperf[\"dailypremium\"] = round(trainperf['totaldue']/trainperf['termdays'])\n",
    "    \n",
    "    \n",
    "    \n",
    "    return trainperf\n",
    "\n",
    "trainperf = data_transform(trainperf_df)"
   ]
  },
  {
   "cell_type": "code",
   "execution_count": 12,
   "id": "dd096dbf",
   "metadata": {},
   "outputs": [
    {
     "data": {
      "text/plain": [
       "[Text(0.5, 1.0, 'good_bad_flag')]"
      ]
     },
     "execution_count": 12,
     "metadata": {},
     "output_type": "execute_result"
    },
    {
     "data": {
      "image/png": "[encoded data removed]",
      "text/plain": [
       "<Figure size 640x480 with 1 Axes>"
      ]
     },
     "metadata": {},
     "output_type": "display_data"
    }
   ],
   "source": [
    "#value counts for good_bad flags\n",
    "\n",
    "trainperf[\"good_bad_flag\"].value_counts()\n",
    "sns.countplot(data=trainperf, x=\"good_bad_flag\").set(title=\"good_bad_flag\")"
   ]
  },
  {
   "cell_type": "code",
   "execution_count": 13,
   "id": "1ece132f",
   "metadata": {},
   "outputs": [
    {
     "name": "stdout",
     "output_type": "stream",
     "text": [
      "(4368, 11)\n"
     ]
    },
    {
     "data": {
      "text/html": [
       "<div>\n",
       "<style scoped>\n",
       "    .dataframe tbody tr th:only-of-type {\n",
       "        vertical-align: middle;\n",
       "    }\n",
       "\n",
       "    .dataframe tbody tr th {\n",
       "        vertical-align: top;\n",
       "    }\n",
       "\n",
       "    .dataframe thead th {\n",
       "        text-align: right;\n",
       "    }\n",
       "</style>\n",
       "<table border=\"1\" class=\"dataframe\">\n",
       "  <thead>\n",
       "    <tr style=\"text-align: right;\">\n",
       "      <th></th>\n",
       "      <th>customerid</th>\n",
       "      <th>systemloanid</th>\n",
       "      <th>loannumber</th>\n",
       "      <th>approveddate</th>\n",
       "      <th>creationdate</th>\n",
       "      <th>loanamount</th>\n",
       "      <th>totaldue</th>\n",
       "      <th>termdays</th>\n",
       "      <th>referredby</th>\n",
       "      <th>good_bad_flag</th>\n",
       "      <th>dailypremium</th>\n",
       "    </tr>\n",
       "  </thead>\n",
       "  <tbody>\n",
       "    <tr>\n",
       "      <th>0</th>\n",
       "      <td>8a2a81a74ce8c05d014cfb32a0da1049</td>\n",
       "      <td>301994762</td>\n",
       "      <td>12</td>\n",
       "      <td>2017-07-25 08:22:56.000000</td>\n",
       "      <td>2017-07-25 07:22:47.000000</td>\n",
       "      <td>30000.0</td>\n",
       "      <td>34500.0</td>\n",
       "      <td>30</td>\n",
       "      <td>NaN</td>\n",
       "      <td>Good</td>\n",
       "      <td>1150.0</td>\n",
       "    </tr>\n",
       "    <tr>\n",
       "      <th>1</th>\n",
       "      <td>8a85886e54beabf90154c0a29ae757c0</td>\n",
       "      <td>301965204</td>\n",
       "      <td>2</td>\n",
       "      <td>2017-07-05 17:04:41.000000</td>\n",
       "      <td>2017-07-05 16:04:18.000000</td>\n",
       "      <td>15000.0</td>\n",
       "      <td>17250.0</td>\n",
       "      <td>30</td>\n",
       "      <td>NaN</td>\n",
       "      <td>Good</td>\n",
       "      <td>575.0</td>\n",
       "    </tr>\n",
       "    <tr>\n",
       "      <th>2</th>\n",
       "      <td>8a8588f35438fe12015444567666018e</td>\n",
       "      <td>301966580</td>\n",
       "      <td>7</td>\n",
       "      <td>2017-07-06 14:52:57.000000</td>\n",
       "      <td>2017-07-06 13:52:51.000000</td>\n",
       "      <td>20000.0</td>\n",
       "      <td>22250.0</td>\n",
       "      <td>15</td>\n",
       "      <td>NaN</td>\n",
       "      <td>Good</td>\n",
       "      <td>1483.0</td>\n",
       "    </tr>\n",
       "    <tr>\n",
       "      <th>3</th>\n",
       "      <td>8a85890754145ace015429211b513e16</td>\n",
       "      <td>301999343</td>\n",
       "      <td>3</td>\n",
       "      <td>2017-07-27 19:00:41.000000</td>\n",
       "      <td>2017-07-27 18:00:35.000000</td>\n",
       "      <td>10000.0</td>\n",
       "      <td>11500.0</td>\n",
       "      <td>15</td>\n",
       "      <td>NaN</td>\n",
       "      <td>Good</td>\n",
       "      <td>767.0</td>\n",
       "    </tr>\n",
       "    <tr>\n",
       "      <th>4</th>\n",
       "      <td>8a858970548359cc0154883481981866</td>\n",
       "      <td>301962360</td>\n",
       "      <td>9</td>\n",
       "      <td>2017-07-03 23:42:45.000000</td>\n",
       "      <td>2017-07-03 22:42:39.000000</td>\n",
       "      <td>40000.0</td>\n",
       "      <td>44000.0</td>\n",
       "      <td>30</td>\n",
       "      <td>NaN</td>\n",
       "      <td>Good</td>\n",
       "      <td>1467.0</td>\n",
       "    </tr>\n",
       "  </tbody>\n",
       "</table>\n",
       "</div>"
      ],
      "text/plain": [
       "                         customerid  systemloanid  loannumber  \\\n",
       "0  8a2a81a74ce8c05d014cfb32a0da1049     301994762          12   \n",
       "1  8a85886e54beabf90154c0a29ae757c0     301965204           2   \n",
       "2  8a8588f35438fe12015444567666018e     301966580           7   \n",
       "3  8a85890754145ace015429211b513e16     301999343           3   \n",
       "4  8a858970548359cc0154883481981866     301962360           9   \n",
       "\n",
       "                 approveddate                creationdate  loanamount  \\\n",
       "0  2017-07-25 08:22:56.000000  2017-07-25 07:22:47.000000     30000.0   \n",
       "1  2017-07-05 17:04:41.000000  2017-07-05 16:04:18.000000     15000.0   \n",
       "2  2017-07-06 14:52:57.000000  2017-07-06 13:52:51.000000     20000.0   \n",
       "3  2017-07-27 19:00:41.000000  2017-07-27 18:00:35.000000     10000.0   \n",
       "4  2017-07-03 23:42:45.000000  2017-07-03 22:42:39.000000     40000.0   \n",
       "\n",
       "   totaldue  termdays referredby good_bad_flag  dailypremium  \n",
       "0   34500.0        30        NaN          Good        1150.0  \n",
       "1   17250.0        30        NaN          Good         575.0  \n",
       "2   22250.0        15        NaN          Good        1483.0  \n",
       "3   11500.0        15        NaN          Good         767.0  \n",
       "4   44000.0        30        NaN          Good        1467.0  "
      ]
     },
     "execution_count": 13,
     "metadata": {},
     "output_type": "execute_result"
    }
   ],
   "source": [
    "print(trainperf.shape)\n",
    "trainperf.head()"
   ]
  },
  {
   "cell_type": "code",
   "execution_count": 14,
   "id": "f0a55332",
   "metadata": {
    "scrolled": true
   },
   "outputs": [
    {
     "data": {
      "text/html": [
       "<div>\n",
       "<style scoped>\n",
       "    .dataframe tbody tr th:only-of-type {\n",
       "        vertical-align: middle;\n",
       "    }\n",
       "\n",
       "    .dataframe tbody tr th {\n",
       "        vertical-align: top;\n",
       "    }\n",
       "\n",
       "    .dataframe thead th {\n",
       "        text-align: right;\n",
       "    }\n",
       "</style>\n",
       "<table border=\"1\" class=\"dataframe\">\n",
       "  <thead>\n",
       "    <tr style=\"text-align: right;\">\n",
       "      <th>good_bad_flag</th>\n",
       "      <th>Bad</th>\n",
       "      <th>Good</th>\n",
       "      <th>ratio</th>\n",
       "    </tr>\n",
       "    <tr>\n",
       "      <th>loanamount</th>\n",
       "      <th></th>\n",
       "      <th></th>\n",
       "      <th></th>\n",
       "    </tr>\n",
       "  </thead>\n",
       "  <tbody>\n",
       "    <tr>\n",
       "      <th>10000.0</th>\n",
       "      <td>655.0</td>\n",
       "      <td>1807.0</td>\n",
       "      <td>0.733956</td>\n",
       "    </tr>\n",
       "    <tr>\n",
       "      <th>15000.0</th>\n",
       "      <td>11.0</td>\n",
       "      <td>71.0</td>\n",
       "      <td>0.865854</td>\n",
       "    </tr>\n",
       "    <tr>\n",
       "      <th>20000.0</th>\n",
       "      <td>127.0</td>\n",
       "      <td>653.0</td>\n",
       "      <td>0.837179</td>\n",
       "    </tr>\n",
       "    <tr>\n",
       "      <th>25000.0</th>\n",
       "      <td>4.0</td>\n",
       "      <td>27.0</td>\n",
       "      <td>0.870968</td>\n",
       "    </tr>\n",
       "    <tr>\n",
       "      <th>30000.0</th>\n",
       "      <td>96.0</td>\n",
       "      <td>488.0</td>\n",
       "      <td>0.835616</td>\n",
       "    </tr>\n",
       "    <tr>\n",
       "      <th>35000.0</th>\n",
       "      <td>1.0</td>\n",
       "      <td>9.0</td>\n",
       "      <td>0.900000</td>\n",
       "    </tr>\n",
       "    <tr>\n",
       "      <th>40000.0</th>\n",
       "      <td>46.0</td>\n",
       "      <td>287.0</td>\n",
       "      <td>0.861862</td>\n",
       "    </tr>\n",
       "    <tr>\n",
       "      <th>45000.0</th>\n",
       "      <td>NaN</td>\n",
       "      <td>1.0</td>\n",
       "      <td>NaN</td>\n",
       "    </tr>\n",
       "    <tr>\n",
       "      <th>50000.0</th>\n",
       "      <td>11.0</td>\n",
       "      <td>66.0</td>\n",
       "      <td>0.857143</td>\n",
       "    </tr>\n",
       "    <tr>\n",
       "      <th>60000.0</th>\n",
       "      <td>1.0</td>\n",
       "      <td>7.0</td>\n",
       "      <td>0.875000</td>\n",
       "    </tr>\n",
       "  </tbody>\n",
       "</table>\n",
       "</div>"
      ],
      "text/plain": [
       "good_bad_flag    Bad    Good     ratio\n",
       "loanamount                            \n",
       "10000.0        655.0  1807.0  0.733956\n",
       "15000.0         11.0    71.0  0.865854\n",
       "20000.0        127.0   653.0  0.837179\n",
       "25000.0          4.0    27.0  0.870968\n",
       "30000.0         96.0   488.0  0.835616\n",
       "35000.0          1.0     9.0  0.900000\n",
       "40000.0         46.0   287.0  0.861862\n",
       "45000.0          NaN     1.0       NaN\n",
       "50000.0         11.0    66.0  0.857143\n",
       "60000.0          1.0     7.0  0.875000"
      ]
     },
     "execution_count": 14,
     "metadata": {},
     "output_type": "execute_result"
    }
   ],
   "source": [
    "df1 = pd.pivot_table(trainperf,\n",
    "              index='loanamount',\n",
    "              columns='good_bad_flag',\n",
    "              aggfunc='size')\n",
    "df1['ratio'] = df1['Good'] / (df1['Good'] + df1['Bad'])\n",
    "df1"
   ]
  },
  {
   "cell_type": "code",
   "execution_count": 15,
   "id": "33f41f33",
   "metadata": {},
   "outputs": [
    {
     "data": {
      "image/png": "[encoded data removed]",
      "text/plain": [
       "<Figure size 2200x1000 with 1 Axes>"
      ]
     },
     "metadata": {},
     "output_type": "display_data"
    }
   ],
   "source": [
    "total = float(trainperf.shape[0])\n",
    "\n",
    "sns.set(rc={'figure.figsize':(22,10)})\n",
    "\n",
    "ax = sns.countplot(y=\"loanamount\", hue=\"good_bad_flag\", data=trainperf)\n",
    "\n",
    "for i in ax.patches:\n",
    "    # get_width pulls left or right; get_y pushes up or down\n",
    "    ax.text(i.get_width()+.12, i.get_y()+.3, \\\n",
    "            '%' + str(round((i.get_width()/total)*100, 1)), fontsize=15,\n",
    "            color='dimgrey')\n",
    "    \n",
    "ax.set_ylabel('Loan-Amount',fontsize=20)\n",
    "ax.set_xlabel('Count',fontsize=20)\n",
    "ax.tick_params(axis='x', which='major', labelsize=20)\n",
    "ax.tick_params(axis='y', which='major', labelsize=20)  \n",
    "\n",
    "plt.legend(bbox_to_anchor=(1.05, 1), loc='upper left', borderaxespad=0.,\n",
    "          prop={'size': 14})\n",
    "\n",
    "ax.set_title(\"\"\"\n",
    "Loan Amounts\n",
    "\"\"\", fontsize=20,loc='left')\n",
    "\n",
    "plt.savefig('test.png', dpi=400,bbox_inches='tight')"
   ]
  },
  {
   "cell_type": "code",
   "execution_count": 32,
   "id": "b2ef8326",
   "metadata": {},
   "outputs": [
    {
     "data": {
      "text/plain": [
       "<AxesSubplot:>"
      ]
     },
     "execution_count": 32,
     "metadata": {},
     "output_type": "execute_result"
    },
    {
     "data": {
      "image/png": "[encoded data removed]",
      "text/plain": [
       "<Figure size 900x600 with 2 Axes>"
      ]
     },
     "metadata": {},
     "output_type": "display_data"
    }
   ],
   "source": [
    "matrix = trainperf.corr()\n",
    "f, ax = plt.subplots(figsize=(9,6))\n",
    "sns.heatmap(matrix,vmax=.8,square=True,cmap='BuPu', annot = True)"
   ]
  },
  {
   "cell_type": "code",
   "execution_count": null,
   "id": "e1653126",
   "metadata": {},
   "outputs": [],
   "source": [
    "#trainprevloans"
   ]
  },
  {
   "cell_type": "code",
   "execution_count": 16,
   "id": "e10d24f1",
   "metadata": {
    "scrolled": true
   },
   "outputs": [
    {
     "data": {
      "text/html": [
       "<div>\n",
       "<style scoped>\n",
       "    .dataframe tbody tr th:only-of-type {\n",
       "        vertical-align: middle;\n",
       "    }\n",
       "\n",
       "    .dataframe tbody tr th {\n",
       "        vertical-align: top;\n",
       "    }\n",
       "\n",
       "    .dataframe thead th {\n",
       "        text-align: right;\n",
       "    }\n",
       "</style>\n",
       "<table border=\"1\" class=\"dataframe\">\n",
       "  <thead>\n",
       "    <tr style=\"text-align: right;\">\n",
       "      <th></th>\n",
       "      <th>customerid</th>\n",
       "      <th>systemloanid</th>\n",
       "      <th>loannumber</th>\n",
       "      <th>approveddate</th>\n",
       "      <th>creationdate</th>\n",
       "      <th>loanamount</th>\n",
       "      <th>totaldue</th>\n",
       "      <th>termdays</th>\n",
       "      <th>closeddate</th>\n",
       "      <th>referredby</th>\n",
       "      <th>firstduedate</th>\n",
       "      <th>firstrepaiddate</th>\n",
       "    </tr>\n",
       "  </thead>\n",
       "  <tbody>\n",
       "    <tr>\n",
       "      <th>0</th>\n",
       "      <td>8a2a81a74ce8c05d014cfb32a0da1049</td>\n",
       "      <td>301682320</td>\n",
       "      <td>2</td>\n",
       "      <td>2016-08-15 18:22:40.000000</td>\n",
       "      <td>2016-08-15 17:22:32.000000</td>\n",
       "      <td>10000.0</td>\n",
       "      <td>13000.0</td>\n",
       "      <td>30</td>\n",
       "      <td>2016-09-01 16:06:48.000000</td>\n",
       "      <td>NaN</td>\n",
       "      <td>2016-09-14 00:00:00.000000</td>\n",
       "      <td>2016-09-01 15:51:43.000000</td>\n",
       "    </tr>\n",
       "    <tr>\n",
       "      <th>1</th>\n",
       "      <td>8a2a81a74ce8c05d014cfb32a0da1049</td>\n",
       "      <td>301883808</td>\n",
       "      <td>9</td>\n",
       "      <td>2017-04-28 18:39:07.000000</td>\n",
       "      <td>2017-04-28 17:38:53.000000</td>\n",
       "      <td>10000.0</td>\n",
       "      <td>13000.0</td>\n",
       "      <td>30</td>\n",
       "      <td>2017-05-28 14:44:49.000000</td>\n",
       "      <td>NaN</td>\n",
       "      <td>2017-05-30 00:00:00.000000</td>\n",
       "      <td>2017-05-26 00:00:00.000000</td>\n",
       "    </tr>\n",
       "    <tr>\n",
       "      <th>2</th>\n",
       "      <td>8a2a81a74ce8c05d014cfb32a0da1049</td>\n",
       "      <td>301831714</td>\n",
       "      <td>8</td>\n",
       "      <td>2017-03-05 10:56:25.000000</td>\n",
       "      <td>2017-03-05 09:56:19.000000</td>\n",
       "      <td>20000.0</td>\n",
       "      <td>23800.0</td>\n",
       "      <td>30</td>\n",
       "      <td>2017-04-26 22:18:56.000000</td>\n",
       "      <td>NaN</td>\n",
       "      <td>2017-04-04 00:00:00.000000</td>\n",
       "      <td>2017-04-26 22:03:47.000000</td>\n",
       "    </tr>\n",
       "    <tr>\n",
       "      <th>3</th>\n",
       "      <td>8a8588f35438fe12015444567666018e</td>\n",
       "      <td>301861541</td>\n",
       "      <td>5</td>\n",
       "      <td>2017-04-09 18:25:55.000000</td>\n",
       "      <td>2017-04-09 17:25:42.000000</td>\n",
       "      <td>10000.0</td>\n",
       "      <td>11500.0</td>\n",
       "      <td>15</td>\n",
       "      <td>2017-04-24 01:35:52.000000</td>\n",
       "      <td>NaN</td>\n",
       "      <td>2017-04-24 00:00:00.000000</td>\n",
       "      <td>2017-04-24 00:48:43.000000</td>\n",
       "    </tr>\n",
       "    <tr>\n",
       "      <th>4</th>\n",
       "      <td>8a85890754145ace015429211b513e16</td>\n",
       "      <td>301941754</td>\n",
       "      <td>2</td>\n",
       "      <td>2017-06-17 09:29:57.000000</td>\n",
       "      <td>2017-06-17 08:29:50.000000</td>\n",
       "      <td>10000.0</td>\n",
       "      <td>11500.0</td>\n",
       "      <td>15</td>\n",
       "      <td>2017-07-14 21:18:43.000000</td>\n",
       "      <td>NaN</td>\n",
       "      <td>2017-07-03 00:00:00.000000</td>\n",
       "      <td>2017-07-14 21:08:35.000000</td>\n",
       "    </tr>\n",
       "  </tbody>\n",
       "</table>\n",
       "</div>"
      ],
      "text/plain": [
       "                         customerid  systemloanid  loannumber  \\\n",
       "0  8a2a81a74ce8c05d014cfb32a0da1049     301682320           2   \n",
       "1  8a2a81a74ce8c05d014cfb32a0da1049     301883808           9   \n",
       "2  8a2a81a74ce8c05d014cfb32a0da1049     301831714           8   \n",
       "3  8a8588f35438fe12015444567666018e     301861541           5   \n",
       "4  8a85890754145ace015429211b513e16     301941754           2   \n",
       "\n",
       "                 approveddate                creationdate  loanamount  \\\n",
       "0  2016-08-15 18:22:40.000000  2016-08-15 17:22:32.000000     10000.0   \n",
       "1  2017-04-28 18:39:07.000000  2017-04-28 17:38:53.000000     10000.0   \n",
       "2  2017-03-05 10:56:25.000000  2017-03-05 09:56:19.000000     20000.0   \n",
       "3  2017-04-09 18:25:55.000000  2017-04-09 17:25:42.000000     10000.0   \n",
       "4  2017-06-17 09:29:57.000000  2017-06-17 08:29:50.000000     10000.0   \n",
       "\n",
       "   totaldue  termdays                  closeddate referredby  \\\n",
       "0   13000.0        30  2016-09-01 16:06:48.000000        NaN   \n",
       "1   13000.0        30  2017-05-28 14:44:49.000000        NaN   \n",
       "2   23800.0        30  2017-04-26 22:18:56.000000        NaN   \n",
       "3   11500.0        15  2017-04-24 01:35:52.000000        NaN   \n",
       "4   11500.0        15  2017-07-14 21:18:43.000000        NaN   \n",
       "\n",
       "                 firstduedate             firstrepaiddate  \n",
       "0  2016-09-14 00:00:00.000000  2016-09-01 15:51:43.000000  \n",
       "1  2017-05-30 00:00:00.000000  2017-05-26 00:00:00.000000  \n",
       "2  2017-04-04 00:00:00.000000  2017-04-26 22:03:47.000000  \n",
       "3  2017-04-24 00:00:00.000000  2017-04-24 00:48:43.000000  \n",
       "4  2017-07-03 00:00:00.000000  2017-07-14 21:08:35.000000  "
      ]
     },
     "execution_count": 16,
     "metadata": {},
     "output_type": "execute_result"
    }
   ],
   "source": [
    "trainprevloans_df.head()"
   ]
  },
  {
   "cell_type": "code",
   "execution_count": 17,
   "id": "22a28e75",
   "metadata": {},
   "outputs": [
    {
     "data": {
      "text/plain": [
       "Index(['customerid', 'systemloanid', 'loannumber', 'approveddate',\n",
       "       'creationdate', 'loanamount', 'totaldue', 'termdays', 'closeddate',\n",
       "       'referredby', 'firstduedate', 'firstrepaiddate'],\n",
       "      dtype='object')"
      ]
     },
     "execution_count": 17,
     "metadata": {},
     "output_type": "execute_result"
    }
   ],
   "source": [
    "trainprevloans_df.columns"
   ]
  },
  {
   "cell_type": "code",
   "execution_count": 18,
   "id": "5d267934",
   "metadata": {},
   "outputs": [
    {
     "name": "stdout",
     "output_type": "stream",
     "text": [
      "(18183, 12)\n",
      "customerid          4359\n",
      "systemloanid       18183\n",
      "loannumber            26\n",
      "approveddate       18172\n",
      "creationdate       18173\n",
      "loanamount            16\n",
      "totaldue              97\n",
      "termdays               4\n",
      "closeddate         17955\n",
      "referredby           521\n",
      "firstduedate         363\n",
      "firstrepaiddate    18011\n",
      "dtype: int64\n"
     ]
    }
   ],
   "source": [
    "print(trainprevloans_df.shape)\n",
    "print(trainprevloans_df.apply(lambda col : col.nunique()))"
   ]
  },
  {
   "cell_type": "code",
   "execution_count": 19,
   "id": "fefd6afa",
   "metadata": {},
   "outputs": [],
   "source": [
    "def prevloans_transform(trainprevloans):\n",
    "    trainprevloans[\n",
    "    ['approveddate','creationdate','closeddate','firstduedate','firstrepaiddate']] = trainprevloans[\n",
    "    ['approveddate','creationdate','closeddate','firstduedate','firstrepaiddate']].apply(pd.to_datetime)\n",
    "    \n",
    "    trainprevloans['paytime_days'] =round(((trainprevloans['firstrepaiddate'] - trainprevloans['approveddate'])/ pd.Timedelta(hours=1))/24)\n",
    "    \n",
    "    conditions = [trainprevloans[\"paytime_days\"] > trainprevloans[\"termdays\"],trainprevloans[\"paytime_days\"] <= trainprevloans[\"termdays\"]]\n",
    "    values = [\"overdue\", \"ontime\"]\n",
    "    trainprevloans[\"payed_ontime_late\"] = np.select(conditions,values)\n",
    "    \n",
    "    trainprevloans['payed_ontime_late'] = trainprevloans['payed_ontime_late'].replace({'ontime':1, 'overdue':0})\n",
    "    \n",
    "    \n",
    "    return trainprevloans\n",
    "    \n",
    "trainprevloans = prevloans_transform(trainprevloans_df)"
   ]
  },
  {
   "cell_type": "code",
   "execution_count": 20,
   "id": "91339631",
   "metadata": {},
   "outputs": [
    {
     "data": {
      "text/html": [
       "<div>\n",
       "<style scoped>\n",
       "    .dataframe tbody tr th:only-of-type {\n",
       "        vertical-align: middle;\n",
       "    }\n",
       "\n",
       "    .dataframe tbody tr th {\n",
       "        vertical-align: top;\n",
       "    }\n",
       "\n",
       "    .dataframe thead th {\n",
       "        text-align: right;\n",
       "    }\n",
       "</style>\n",
       "<table border=\"1\" class=\"dataframe\">\n",
       "  <thead>\n",
       "    <tr style=\"text-align: right;\">\n",
       "      <th></th>\n",
       "      <th>customerid</th>\n",
       "      <th>systemloanid</th>\n",
       "      <th>loannumber</th>\n",
       "      <th>approveddate</th>\n",
       "      <th>creationdate</th>\n",
       "      <th>loanamount</th>\n",
       "      <th>totaldue</th>\n",
       "      <th>termdays</th>\n",
       "      <th>closeddate</th>\n",
       "      <th>referredby</th>\n",
       "      <th>firstduedate</th>\n",
       "      <th>firstrepaiddate</th>\n",
       "      <th>paytime_days</th>\n",
       "      <th>payed_ontime_late</th>\n",
       "    </tr>\n",
       "  </thead>\n",
       "  <tbody>\n",
       "    <tr>\n",
       "      <th>0</th>\n",
       "      <td>8a2a81a74ce8c05d014cfb32a0da1049</td>\n",
       "      <td>301682320</td>\n",
       "      <td>2</td>\n",
       "      <td>2016-08-15 18:22:40</td>\n",
       "      <td>2016-08-15 17:22:32</td>\n",
       "      <td>10000.0</td>\n",
       "      <td>13000.0</td>\n",
       "      <td>30</td>\n",
       "      <td>2016-09-01 16:06:48</td>\n",
       "      <td>NaN</td>\n",
       "      <td>2016-09-14</td>\n",
       "      <td>2016-09-01 15:51:43</td>\n",
       "      <td>17.0</td>\n",
       "      <td>1</td>\n",
       "    </tr>\n",
       "    <tr>\n",
       "      <th>1</th>\n",
       "      <td>8a2a81a74ce8c05d014cfb32a0da1049</td>\n",
       "      <td>301883808</td>\n",
       "      <td>9</td>\n",
       "      <td>2017-04-28 18:39:07</td>\n",
       "      <td>2017-04-28 17:38:53</td>\n",
       "      <td>10000.0</td>\n",
       "      <td>13000.0</td>\n",
       "      <td>30</td>\n",
       "      <td>2017-05-28 14:44:49</td>\n",
       "      <td>NaN</td>\n",
       "      <td>2017-05-30</td>\n",
       "      <td>2017-05-26 00:00:00</td>\n",
       "      <td>27.0</td>\n",
       "      <td>1</td>\n",
       "    </tr>\n",
       "    <tr>\n",
       "      <th>2</th>\n",
       "      <td>8a2a81a74ce8c05d014cfb32a0da1049</td>\n",
       "      <td>301831714</td>\n",
       "      <td>8</td>\n",
       "      <td>2017-03-05 10:56:25</td>\n",
       "      <td>2017-03-05 09:56:19</td>\n",
       "      <td>20000.0</td>\n",
       "      <td>23800.0</td>\n",
       "      <td>30</td>\n",
       "      <td>2017-04-26 22:18:56</td>\n",
       "      <td>NaN</td>\n",
       "      <td>2017-04-04</td>\n",
       "      <td>2017-04-26 22:03:47</td>\n",
       "      <td>52.0</td>\n",
       "      <td>0</td>\n",
       "    </tr>\n",
       "    <tr>\n",
       "      <th>3</th>\n",
       "      <td>8a8588f35438fe12015444567666018e</td>\n",
       "      <td>301861541</td>\n",
       "      <td>5</td>\n",
       "      <td>2017-04-09 18:25:55</td>\n",
       "      <td>2017-04-09 17:25:42</td>\n",
       "      <td>10000.0</td>\n",
       "      <td>11500.0</td>\n",
       "      <td>15</td>\n",
       "      <td>2017-04-24 01:35:52</td>\n",
       "      <td>NaN</td>\n",
       "      <td>2017-04-24</td>\n",
       "      <td>2017-04-24 00:48:43</td>\n",
       "      <td>14.0</td>\n",
       "      <td>1</td>\n",
       "    </tr>\n",
       "    <tr>\n",
       "      <th>4</th>\n",
       "      <td>8a85890754145ace015429211b513e16</td>\n",
       "      <td>301941754</td>\n",
       "      <td>2</td>\n",
       "      <td>2017-06-17 09:29:57</td>\n",
       "      <td>2017-06-17 08:29:50</td>\n",
       "      <td>10000.0</td>\n",
       "      <td>11500.0</td>\n",
       "      <td>15</td>\n",
       "      <td>2017-07-14 21:18:43</td>\n",
       "      <td>NaN</td>\n",
       "      <td>2017-07-03</td>\n",
       "      <td>2017-07-14 21:08:35</td>\n",
       "      <td>27.0</td>\n",
       "      <td>0</td>\n",
       "    </tr>\n",
       "  </tbody>\n",
       "</table>\n",
       "</div>"
      ],
      "text/plain": [
       "                         customerid  systemloanid  loannumber  \\\n",
       "0  8a2a81a74ce8c05d014cfb32a0da1049     301682320           2   \n",
       "1  8a2a81a74ce8c05d014cfb32a0da1049     301883808           9   \n",
       "2  8a2a81a74ce8c05d014cfb32a0da1049     301831714           8   \n",
       "3  8a8588f35438fe12015444567666018e     301861541           5   \n",
       "4  8a85890754145ace015429211b513e16     301941754           2   \n",
       "\n",
       "         approveddate        creationdate  loanamount  totaldue  termdays  \\\n",
       "0 2016-08-15 18:22:40 2016-08-15 17:22:32     10000.0   13000.0        30   \n",
       "1 2017-04-28 18:39:07 2017-04-28 17:38:53     10000.0   13000.0        30   \n",
       "2 2017-03-05 10:56:25 2017-03-05 09:56:19     20000.0   23800.0        30   \n",
       "3 2017-04-09 18:25:55 2017-04-09 17:25:42     10000.0   11500.0        15   \n",
       "4 2017-06-17 09:29:57 2017-06-17 08:29:50     10000.0   11500.0        15   \n",
       "\n",
       "           closeddate referredby firstduedate     firstrepaiddate  \\\n",
       "0 2016-09-01 16:06:48        NaN   2016-09-14 2016-09-01 15:51:43   \n",
       "1 2017-05-28 14:44:49        NaN   2017-05-30 2017-05-26 00:00:00   \n",
       "2 2017-04-26 22:18:56        NaN   2017-04-04 2017-04-26 22:03:47   \n",
       "3 2017-04-24 01:35:52        NaN   2017-04-24 2017-04-24 00:48:43   \n",
       "4 2017-07-14 21:18:43        NaN   2017-07-03 2017-07-14 21:08:35   \n",
       "\n",
       "   paytime_days  payed_ontime_late  \n",
       "0          17.0                  1  \n",
       "1          27.0                  1  \n",
       "2          52.0                  0  \n",
       "3          14.0                  1  \n",
       "4          27.0                  0  "
      ]
     },
     "execution_count": 20,
     "metadata": {},
     "output_type": "execute_result"
    }
   ],
   "source": [
    "trainprevloans.head()"
   ]
  },
  {
   "cell_type": "code",
   "execution_count": 21,
   "id": "dc9b7171",
   "metadata": {},
   "outputs": [
    {
     "name": "stdout",
     "output_type": "stream",
     "text": [
      "(18183, 14)\n",
      "customerid            4359\n",
      "systemloanid         18183\n",
      "loannumber              26\n",
      "approveddate         18172\n",
      "creationdate         18173\n",
      "loanamount              16\n",
      "totaldue                97\n",
      "termdays                 4\n",
      "closeddate           17955\n",
      "referredby             521\n",
      "firstduedate           363\n",
      "firstrepaiddate      18011\n",
      "paytime_days           116\n",
      "payed_ontime_late        2\n",
      "dtype: int64\n"
     ]
    }
   ],
   "source": [
    "print(trainprevloans.shape)\n",
    "print(trainprevloans.apply(lambda col : col.nunique()))"
   ]
  },
  {
   "cell_type": "code",
   "execution_count": 135,
   "id": "e2c89313",
   "metadata": {},
   "outputs": [
    {
     "data": {
      "image/png": "[encoded data removed]",
      "text/plain": [
       "<Figure size 2200x1700 with 1 Axes>"
      ]
     },
     "metadata": {},
     "output_type": "display_data"
    }
   ],
   "source": [
    "trainprevloans['loannumber'] = trainprevloans['loannumber'].astype('category')\n",
    "\n",
    "total = float(trainprevloans.shape[0])\n",
    "\n",
    "sns.set(rc={'figure.figsize':(22,17)})\n",
    "\n",
    "ax = sns.countplot(y=\"loannumber\", hue=\"payed_ontime_late\", data=trainprevloans)\n",
    "\n",
    "for i in ax.patches:\n",
    "    # get_width pulls left or right; get_y pushes up or down\n",
    "    ax.text(i.get_width()+.12, i.get_y()+.3, \\\n",
    "            '%' + str(round((i.get_width()/total)*100, 1)), fontsize=15,\n",
    "            color='red')\n",
    "    \n",
    "ax.set_ylabel('Number of Loans',fontsize=20)\n",
    "ax.set_xlabel('Count of Clients',fontsize=20)\n",
    "ax.tick_params(axis='x', which='major', labelsize=20)\n",
    "ax.tick_params(axis='y', which='major', labelsize=20)  \n",
    "\n",
    "plt.legend(bbox_to_anchor=(1.05, 1), loc='upper left', borderaxespad=0.,\n",
    "          prop={'size': 14})\n",
    "\n",
    "ax.set_title(\"\"\"\n",
    "Number of Loans\n",
    "\"\"\", fontsize=20,loc='left')\n",
    "\n",
    "plt.savefig('number_loans.png', dpi=400,bbox_inches='tight')"
   ]
  },
  {
   "cell_type": "markdown",
   "id": "2643007d",
   "metadata": {},
   "source": [
    "<h2 style=\"font-size:2rem;color:black;\"> 1.3 traindemographics</h2>\n",
    "\n",
    "\n",
    "<h2 style=\"font-size:1.5rem;color:black;\"> - demographics dataset </h2>"
   ]
  },
  {
   "cell_type": "code",
   "execution_count": 22,
   "id": "c5909e4f",
   "metadata": {},
   "outputs": [
    {
     "data": {
      "text/html": [
       "<div>\n",
       "<style scoped>\n",
       "    .dataframe tbody tr th:only-of-type {\n",
       "        vertical-align: middle;\n",
       "    }\n",
       "\n",
       "    .dataframe tbody tr th {\n",
       "        vertical-align: top;\n",
       "    }\n",
       "\n",
       "    .dataframe thead th {\n",
       "        text-align: right;\n",
       "    }\n",
       "</style>\n",
       "<table border=\"1\" class=\"dataframe\">\n",
       "  <thead>\n",
       "    <tr style=\"text-align: right;\">\n",
       "      <th></th>\n",
       "      <th>customerid</th>\n",
       "      <th>birthdate</th>\n",
       "      <th>bank_account_type</th>\n",
       "      <th>longitude_gps</th>\n",
       "      <th>latitude_gps</th>\n",
       "      <th>bank_name_clients</th>\n",
       "      <th>bank_branch_clients</th>\n",
       "      <th>employment_status_clients</th>\n",
       "      <th>level_of_education_clients</th>\n",
       "    </tr>\n",
       "  </thead>\n",
       "  <tbody>\n",
       "    <tr>\n",
       "      <th>0</th>\n",
       "      <td>8a858e135cb22031015cbafc76964ebd</td>\n",
       "      <td>1973-10-10 00:00:00.000000</td>\n",
       "      <td>Savings</td>\n",
       "      <td>3.319219</td>\n",
       "      <td>6.528604</td>\n",
       "      <td>GT Bank</td>\n",
       "      <td>NaN</td>\n",
       "      <td>NaN</td>\n",
       "      <td>NaN</td>\n",
       "    </tr>\n",
       "    <tr>\n",
       "      <th>1</th>\n",
       "      <td>8a858e275c7ea5ec015c82482d7c3996</td>\n",
       "      <td>1986-01-21 00:00:00.000000</td>\n",
       "      <td>Savings</td>\n",
       "      <td>3.325598</td>\n",
       "      <td>7.119403</td>\n",
       "      <td>Sterling Bank</td>\n",
       "      <td>NaN</td>\n",
       "      <td>Permanent</td>\n",
       "      <td>NaN</td>\n",
       "    </tr>\n",
       "    <tr>\n",
       "      <th>2</th>\n",
       "      <td>8a858e5b5bd99460015bdc95cd485634</td>\n",
       "      <td>1987-04-01 00:00:00.000000</td>\n",
       "      <td>Savings</td>\n",
       "      <td>5.746100</td>\n",
       "      <td>5.563174</td>\n",
       "      <td>Fidelity Bank</td>\n",
       "      <td>NaN</td>\n",
       "      <td>NaN</td>\n",
       "      <td>NaN</td>\n",
       "    </tr>\n",
       "    <tr>\n",
       "      <th>3</th>\n",
       "      <td>8a858efd5ca70688015cabd1f1e94b55</td>\n",
       "      <td>1991-07-19 00:00:00.000000</td>\n",
       "      <td>Savings</td>\n",
       "      <td>3.362850</td>\n",
       "      <td>6.642485</td>\n",
       "      <td>GT Bank</td>\n",
       "      <td>NaN</td>\n",
       "      <td>Permanent</td>\n",
       "      <td>NaN</td>\n",
       "    </tr>\n",
       "    <tr>\n",
       "      <th>4</th>\n",
       "      <td>8a858e785acd3412015acd48f4920d04</td>\n",
       "      <td>1982-11-22 00:00:00.000000</td>\n",
       "      <td>Savings</td>\n",
       "      <td>8.455332</td>\n",
       "      <td>11.971410</td>\n",
       "      <td>GT Bank</td>\n",
       "      <td>NaN</td>\n",
       "      <td>Permanent</td>\n",
       "      <td>NaN</td>\n",
       "    </tr>\n",
       "  </tbody>\n",
       "</table>\n",
       "</div>"
      ],
      "text/plain": [
       "                         customerid                   birthdate  \\\n",
       "0  8a858e135cb22031015cbafc76964ebd  1973-10-10 00:00:00.000000   \n",
       "1  8a858e275c7ea5ec015c82482d7c3996  1986-01-21 00:00:00.000000   \n",
       "2  8a858e5b5bd99460015bdc95cd485634  1987-04-01 00:00:00.000000   \n",
       "3  8a858efd5ca70688015cabd1f1e94b55  1991-07-19 00:00:00.000000   \n",
       "4  8a858e785acd3412015acd48f4920d04  1982-11-22 00:00:00.000000   \n",
       "\n",
       "  bank_account_type  longitude_gps  latitude_gps bank_name_clients  \\\n",
       "0           Savings       3.319219      6.528604           GT Bank   \n",
       "1           Savings       3.325598      7.119403     Sterling Bank   \n",
       "2           Savings       5.746100      5.563174     Fidelity Bank   \n",
       "3           Savings       3.362850      6.642485           GT Bank   \n",
       "4           Savings       8.455332     11.971410           GT Bank   \n",
       "\n",
       "  bank_branch_clients employment_status_clients level_of_education_clients  \n",
       "0                 NaN                       NaN                        NaN  \n",
       "1                 NaN                 Permanent                        NaN  \n",
       "2                 NaN                       NaN                        NaN  \n",
       "3                 NaN                 Permanent                        NaN  \n",
       "4                 NaN                 Permanent                        NaN  "
      ]
     },
     "execution_count": 22,
     "metadata": {},
     "output_type": "execute_result"
    }
   ],
   "source": [
    "traindemographics_df.head()"
   ]
  },
  {
   "cell_type": "code",
   "execution_count": 23,
   "id": "457bd472",
   "metadata": {},
   "outputs": [
    {
     "name": "stdout",
     "output_type": "stream",
     "text": [
      "<class 'pandas.core.frame.DataFrame'>\n",
      "RangeIndex: 4346 entries, 0 to 4345\n",
      "Data columns (total 9 columns):\n",
      " #   Column                      Non-Null Count  Dtype  \n",
      "---  ------                      --------------  -----  \n",
      " 0   customerid                  4346 non-null   object \n",
      " 1   birthdate                   4346 non-null   object \n",
      " 2   bank_account_type           4346 non-null   object \n",
      " 3   longitude_gps               4346 non-null   float64\n",
      " 4   latitude_gps                4346 non-null   float64\n",
      " 5   bank_name_clients           4346 non-null   object \n",
      " 6   bank_branch_clients         51 non-null     object \n",
      " 7   employment_status_clients   3698 non-null   object \n",
      " 8   level_of_education_clients  587 non-null    object \n",
      "dtypes: float64(2), object(7)\n",
      "memory usage: 305.7+ KB\n"
     ]
    }
   ],
   "source": [
    "traindemographics_df.info()"
   ]
  },
  {
   "cell_type": "code",
   "execution_count": 24,
   "id": "4f0e31a9",
   "metadata": {},
   "outputs": [
    {
     "name": "stdout",
     "output_type": "stream",
     "text": [
      "(4346, 9)\n",
      "customerid                    4334\n",
      "birthdate                     3297\n",
      "bank_account_type                3\n",
      "longitude_gps                 4103\n",
      "latitude_gps                  4313\n",
      "bank_name_clients               18\n",
      "bank_branch_clients             45\n",
      "employment_status_clients        6\n",
      "level_of_education_clients       4\n",
      "dtype: int64\n"
     ]
    }
   ],
   "source": [
    "print(traindemographics_df.shape)\n",
    "print(traindemographics_df.apply(lambda col : col.nunique()))"
   ]
  },
  {
   "cell_type": "code",
   "execution_count": 25,
   "id": "d9628935",
   "metadata": {},
   "outputs": [],
   "source": [
    "def demo_trans(traindemographics):\n",
    "    traindemographics['birthdate'] = pd.to_datetime(traindemographics['birthdate'], errors='coerce')\n",
    "    \n",
    "    traindemographics[[\"bank_account_type\",\"bank_name_clients\",\"bank_branch_clients\",\n",
    "                   \"employment_status_clients\",\"level_of_education_clients\"]] = traindemographics[[\"bank_account_type\",\n",
    "                                                                                                   \"bank_name_clients\",\n",
    "                                                                                                   \"bank_branch_clients\",\n",
    "                                                                                                   \"employment_status_clients\",\n",
    "                                                                                                   \"level_of_education_clients\"]]\n",
    "    traindemographics['age'] =  date.today().year - pd.DatetimeIndex(traindemographics['birthdate']).year\n",
    "    \n",
    "    \n",
    "    return traindemographics\n",
    "\n",
    "traindemographics = demo_trans(traindemographics_df)"
   ]
  },
  {
   "cell_type": "code",
   "execution_count": 26,
   "id": "5bd9a9df",
   "metadata": {},
   "outputs": [
    {
     "name": "stdout",
     "output_type": "stream",
     "text": [
      "(4346, 10)\n"
     ]
    },
    {
     "data": {
      "text/html": [
       "<div>\n",
       "<style scoped>\n",
       "    .dataframe tbody tr th:only-of-type {\n",
       "        vertical-align: middle;\n",
       "    }\n",
       "\n",
       "    .dataframe tbody tr th {\n",
       "        vertical-align: top;\n",
       "    }\n",
       "\n",
       "    .dataframe thead th {\n",
       "        text-align: right;\n",
       "    }\n",
       "</style>\n",
       "<table border=\"1\" class=\"dataframe\">\n",
       "  <thead>\n",
       "    <tr style=\"text-align: right;\">\n",
       "      <th></th>\n",
       "      <th>customerid</th>\n",
       "      <th>birthdate</th>\n",
       "      <th>bank_account_type</th>\n",
       "      <th>longitude_gps</th>\n",
       "      <th>latitude_gps</th>\n",
       "      <th>bank_name_clients</th>\n",
       "      <th>bank_branch_clients</th>\n",
       "      <th>employment_status_clients</th>\n",
       "      <th>level_of_education_clients</th>\n",
       "      <th>age</th>\n",
       "    </tr>\n",
       "  </thead>\n",
       "  <tbody>\n",
       "    <tr>\n",
       "      <th>0</th>\n",
       "      <td>8a858e135cb22031015cbafc76964ebd</td>\n",
       "      <td>1973-10-10</td>\n",
       "      <td>Savings</td>\n",
       "      <td>3.319219</td>\n",
       "      <td>6.528604</td>\n",
       "      <td>GT Bank</td>\n",
       "      <td>NaN</td>\n",
       "      <td>NaN</td>\n",
       "      <td>NaN</td>\n",
       "      <td>50</td>\n",
       "    </tr>\n",
       "    <tr>\n",
       "      <th>1</th>\n",
       "      <td>8a858e275c7ea5ec015c82482d7c3996</td>\n",
       "      <td>1986-01-21</td>\n",
       "      <td>Savings</td>\n",
       "      <td>3.325598</td>\n",
       "      <td>7.119403</td>\n",
       "      <td>Sterling Bank</td>\n",
       "      <td>NaN</td>\n",
       "      <td>Permanent</td>\n",
       "      <td>NaN</td>\n",
       "      <td>37</td>\n",
       "    </tr>\n",
       "    <tr>\n",
       "      <th>2</th>\n",
       "      <td>8a858e5b5bd99460015bdc95cd485634</td>\n",
       "      <td>1987-04-01</td>\n",
       "      <td>Savings</td>\n",
       "      <td>5.746100</td>\n",
       "      <td>5.563174</td>\n",
       "      <td>Fidelity Bank</td>\n",
       "      <td>NaN</td>\n",
       "      <td>NaN</td>\n",
       "      <td>NaN</td>\n",
       "      <td>36</td>\n",
       "    </tr>\n",
       "    <tr>\n",
       "      <th>3</th>\n",
       "      <td>8a858efd5ca70688015cabd1f1e94b55</td>\n",
       "      <td>1991-07-19</td>\n",
       "      <td>Savings</td>\n",
       "      <td>3.362850</td>\n",
       "      <td>6.642485</td>\n",
       "      <td>GT Bank</td>\n",
       "      <td>NaN</td>\n",
       "      <td>Permanent</td>\n",
       "      <td>NaN</td>\n",
       "      <td>32</td>\n",
       "    </tr>\n",
       "    <tr>\n",
       "      <th>4</th>\n",
       "      <td>8a858e785acd3412015acd48f4920d04</td>\n",
       "      <td>1982-11-22</td>\n",
       "      <td>Savings</td>\n",
       "      <td>8.455332</td>\n",
       "      <td>11.971410</td>\n",
       "      <td>GT Bank</td>\n",
       "      <td>NaN</td>\n",
       "      <td>Permanent</td>\n",
       "      <td>NaN</td>\n",
       "      <td>41</td>\n",
       "    </tr>\n",
       "  </tbody>\n",
       "</table>\n",
       "</div>"
      ],
      "text/plain": [
       "                         customerid  birthdate bank_account_type  \\\n",
       "0  8a858e135cb22031015cbafc76964ebd 1973-10-10           Savings   \n",
       "1  8a858e275c7ea5ec015c82482d7c3996 1986-01-21           Savings   \n",
       "2  8a858e5b5bd99460015bdc95cd485634 1987-04-01           Savings   \n",
       "3  8a858efd5ca70688015cabd1f1e94b55 1991-07-19           Savings   \n",
       "4  8a858e785acd3412015acd48f4920d04 1982-11-22           Savings   \n",
       "\n",
       "   longitude_gps  latitude_gps bank_name_clients bank_branch_clients  \\\n",
       "0       3.319219      6.528604           GT Bank                 NaN   \n",
       "1       3.325598      7.119403     Sterling Bank                 NaN   \n",
       "2       5.746100      5.563174     Fidelity Bank                 NaN   \n",
       "3       3.362850      6.642485           GT Bank                 NaN   \n",
       "4       8.455332     11.971410           GT Bank                 NaN   \n",
       "\n",
       "  employment_status_clients level_of_education_clients  age  \n",
       "0                       NaN                        NaN   50  \n",
       "1                 Permanent                        NaN   37  \n",
       "2                       NaN                        NaN   36  \n",
       "3                 Permanent                        NaN   32  \n",
       "4                 Permanent                        NaN   41  "
      ]
     },
     "execution_count": 26,
     "metadata": {},
     "output_type": "execute_result"
    }
   ],
   "source": [
    "print(traindemographics.shape)\n",
    "traindemographics.head()"
   ]
  },
  {
   "cell_type": "code",
   "execution_count": 28,
   "id": "bb90b980",
   "metadata": {},
   "outputs": [
    {
     "data": {
      "text/plain": [
       "(26897, 26)"
      ]
     },
     "execution_count": 28,
     "metadata": {},
     "output_type": "execute_result"
    }
   ],
   "source": [
    "df = pd.concat((trainperf,trainprevloans,traindemographics),axis=0, join='outer', ignore_index=True, keys=None, levels=None, names=None, verify_integrity=False, sort=False, copy=None).reset_index()\n",
    "df.shape"
   ]
  },
  {
   "cell_type": "code",
   "execution_count": 29,
   "id": "2957f9e8",
   "metadata": {},
   "outputs": [
    {
     "name": "stdout",
     "output_type": "stream",
     "text": [
      "index                         26897\n",
      "customerid                     5433\n",
      "systemloanid                  22551\n",
      "loannumber                       27\n",
      "approveddate                  22534\n",
      "creationdate                  22537\n",
      "loanamount                       17\n",
      "totaldue                        101\n",
      "termdays                          4\n",
      "referredby                      521\n",
      "good_bad_flag                     2\n",
      "dailypremium                     43\n",
      "closeddate                    17955\n",
      "firstduedate                    363\n",
      "firstrepaiddate               18011\n",
      "paytime_days                    116\n",
      "payed_ontime_late                 2\n",
      "birthdate                      3297\n",
      "bank_account_type                 3\n",
      "longitude_gps                  4103\n",
      "latitude_gps                   4313\n",
      "bank_name_clients                18\n",
      "bank_branch_clients              45\n",
      "employment_status_clients         6\n",
      "level_of_education_clients        4\n",
      "age                              36\n",
      "dtype: int64\n"
     ]
    }
   ],
   "source": [
    "print(df.apply(lambda col : col.nunique()))"
   ]
  },
  {
   "cell_type": "code",
   "execution_count": 39,
   "id": "e456c6c2",
   "metadata": {},
   "outputs": [],
   "source": [
    "def feature_eng(df):\n",
    "    df[\"employment_status_clients\"].fillna(\"hustling\", inplace=True)\n",
    "    df[\"level_of_education_clients\"].fillna(\"illiterate\", inplace=True)\n",
    "    df[\"loannumber\"].fillna(df[\"loannumber\"].mean(), inplace=True)\n",
    "    df[\"loanamount\"].fillna(df[\"loanamount\"].mean(), inplace=True)\n",
    "    df[\"totaldue\"].fillna(df[\"totaldue\"].mean(), inplace=True)\n",
    "    df[\"termdays\"].fillna(df[\"termdays\"].mean(), inplace=True)\n",
    "    df[\"dailypremium\"].fillna(df[\"dailypremium\"].mean(), inplace=True)\n",
    "    df[\"paytime_days\"].fillna(df[\"paytime_days\"].mean(), inplace=True)\n",
    "    df[\"age\"].fillna(df[\"age\"].mean(), inplace=True)\n",
    "    \n",
    "    objects_columns = [\"bank_account_type\", \"bank_name_clients\", \"bank_branch_clients\",\n",
    "                   \"employment_status_clients\",\"level_of_education_clients\",\"good_bad_flag\"]\n",
    "    for i in objects_columns:\n",
    "        df[i] = df[i].astype('category')\n",
    "        \n",
    "    labelencoder = LabelEncoder()\n",
    "    df['good_bad_flag'] = labelencoder.fit_transform(df['good_bad_flag'])\n",
    "    df['payed_ontime_late'] = labelencoder.fit_transform(df['payed_ontime_late'])\n",
    "    \n",
    "    categorical_columns = ['bank_account_type','bank_name_clients','employment_status_clients','level_of_education_clients']\n",
    "\n",
    "    count_encoder = ce.CountEncoder()\n",
    "    count_encoded = count_encoder.fit_transform(df[categorical_columns])\n",
    "    df = df.join(count_encoded.add_suffix(\"_count\"))\n",
    "    df_eng = df.drop(columns=['bank_account_type','bank_name_clients','employment_status_clients',\n",
    "                         'longitude_gps',\"approveddate\",'latitude_gps',\"birthdate\",'level_of_education_clients',\n",
    "                         \"systemloanid\",'closeddate','index','referredby',\"creationdate\",\"bank_branch_clients\",'firstduedate','firstrepaiddate'], axis=1)\n",
    "    \n",
    "    return df_eng\n",
    "\n",
    "df_eng = feature_eng(df)\n",
    "    "
   ]
  },
  {
   "cell_type": "code",
   "execution_count": 38,
   "id": "a62bd832",
   "metadata": {},
   "outputs": [
    {
     "data": {
      "text/plain": [
       "38.94616977225673"
      ]
     },
     "execution_count": 38,
     "metadata": {},
     "output_type": "execute_result"
    }
   ],
   "source": [
    "df['age'].mean()"
   ]
  },
  {
   "cell_type": "code",
   "execution_count": 31,
   "id": "c719a2e0",
   "metadata": {},
   "outputs": [
    {
     "data": {
      "text/html": [
       "<div>\n",
       "<style scoped>\n",
       "    .dataframe tbody tr th:only-of-type {\n",
       "        vertical-align: middle;\n",
       "    }\n",
       "\n",
       "    .dataframe tbody tr th {\n",
       "        vertical-align: top;\n",
       "    }\n",
       "\n",
       "    .dataframe thead th {\n",
       "        text-align: right;\n",
       "    }\n",
       "</style>\n",
       "<table border=\"1\" class=\"dataframe\">\n",
       "  <thead>\n",
       "    <tr style=\"text-align: right;\">\n",
       "      <th></th>\n",
       "      <th>customerid</th>\n",
       "      <th>loannumber</th>\n",
       "      <th>loanamount</th>\n",
       "      <th>totaldue</th>\n",
       "      <th>termdays</th>\n",
       "      <th>good_bad_flag</th>\n",
       "      <th>dailypremium</th>\n",
       "      <th>paytime_days</th>\n",
       "      <th>payed_ontime_late</th>\n",
       "      <th>age</th>\n",
       "      <th>bank_account_type_count</th>\n",
       "      <th>bank_name_clients_count</th>\n",
       "      <th>employment_status_clients_count</th>\n",
       "      <th>level_of_education_clients_count</th>\n",
       "    </tr>\n",
       "  </thead>\n",
       "  <tbody>\n",
       "    <tr>\n",
       "      <th>0</th>\n",
       "      <td>8a2a81a74ce8c05d014cfb32a0da1049</td>\n",
       "      <td>12.0</td>\n",
       "      <td>30000.0</td>\n",
       "      <td>34500.0</td>\n",
       "      <td>30.0</td>\n",
       "      <td>1</td>\n",
       "      <td>1150.0</td>\n",
       "      <td>23.070945</td>\n",
       "      <td>2</td>\n",
       "      <td>NaN</td>\n",
       "      <td>22551</td>\n",
       "      <td>22551</td>\n",
       "      <td>23199</td>\n",
       "      <td>26310</td>\n",
       "    </tr>\n",
       "    <tr>\n",
       "      <th>1</th>\n",
       "      <td>8a85886e54beabf90154c0a29ae757c0</td>\n",
       "      <td>2.0</td>\n",
       "      <td>15000.0</td>\n",
       "      <td>17250.0</td>\n",
       "      <td>30.0</td>\n",
       "      <td>1</td>\n",
       "      <td>575.0</td>\n",
       "      <td>23.070945</td>\n",
       "      <td>2</td>\n",
       "      <td>NaN</td>\n",
       "      <td>22551</td>\n",
       "      <td>22551</td>\n",
       "      <td>23199</td>\n",
       "      <td>26310</td>\n",
       "    </tr>\n",
       "    <tr>\n",
       "      <th>2</th>\n",
       "      <td>8a8588f35438fe12015444567666018e</td>\n",
       "      <td>7.0</td>\n",
       "      <td>20000.0</td>\n",
       "      <td>22250.0</td>\n",
       "      <td>15.0</td>\n",
       "      <td>1</td>\n",
       "      <td>1483.0</td>\n",
       "      <td>23.070945</td>\n",
       "      <td>2</td>\n",
       "      <td>NaN</td>\n",
       "      <td>22551</td>\n",
       "      <td>22551</td>\n",
       "      <td>23199</td>\n",
       "      <td>26310</td>\n",
       "    </tr>\n",
       "    <tr>\n",
       "      <th>3</th>\n",
       "      <td>8a85890754145ace015429211b513e16</td>\n",
       "      <td>3.0</td>\n",
       "      <td>10000.0</td>\n",
       "      <td>11500.0</td>\n",
       "      <td>15.0</td>\n",
       "      <td>1</td>\n",
       "      <td>767.0</td>\n",
       "      <td>23.070945</td>\n",
       "      <td>2</td>\n",
       "      <td>NaN</td>\n",
       "      <td>22551</td>\n",
       "      <td>22551</td>\n",
       "      <td>23199</td>\n",
       "      <td>26310</td>\n",
       "    </tr>\n",
       "    <tr>\n",
       "      <th>4</th>\n",
       "      <td>8a858970548359cc0154883481981866</td>\n",
       "      <td>9.0</td>\n",
       "      <td>40000.0</td>\n",
       "      <td>44000.0</td>\n",
       "      <td>30.0</td>\n",
       "      <td>1</td>\n",
       "      <td>1467.0</td>\n",
       "      <td>23.070945</td>\n",
       "      <td>2</td>\n",
       "      <td>NaN</td>\n",
       "      <td>22551</td>\n",
       "      <td>22551</td>\n",
       "      <td>23199</td>\n",
       "      <td>26310</td>\n",
       "    </tr>\n",
       "  </tbody>\n",
       "</table>\n",
       "</div>"
      ],
      "text/plain": [
       "                         customerid  loannumber  loanamount  totaldue  \\\n",
       "0  8a2a81a74ce8c05d014cfb32a0da1049        12.0     30000.0   34500.0   \n",
       "1  8a85886e54beabf90154c0a29ae757c0         2.0     15000.0   17250.0   \n",
       "2  8a8588f35438fe12015444567666018e         7.0     20000.0   22250.0   \n",
       "3  8a85890754145ace015429211b513e16         3.0     10000.0   11500.0   \n",
       "4  8a858970548359cc0154883481981866         9.0     40000.0   44000.0   \n",
       "\n",
       "   termdays  good_bad_flag  dailypremium  paytime_days  payed_ontime_late  \\\n",
       "0      30.0              1        1150.0     23.070945                  2   \n",
       "1      30.0              1         575.0     23.070945                  2   \n",
       "2      15.0              1        1483.0     23.070945                  2   \n",
       "3      15.0              1         767.0     23.070945                  2   \n",
       "4      30.0              1        1467.0     23.070945                  2   \n",
       "\n",
       "   age  bank_account_type_count  bank_name_clients_count  \\\n",
       "0  NaN                    22551                    22551   \n",
       "1  NaN                    22551                    22551   \n",
       "2  NaN                    22551                    22551   \n",
       "3  NaN                    22551                    22551   \n",
       "4  NaN                    22551                    22551   \n",
       "\n",
       "   employment_status_clients_count  level_of_education_clients_count  \n",
       "0                            23199                             26310  \n",
       "1                            23199                             26310  \n",
       "2                            23199                             26310  \n",
       "3                            23199                             26310  \n",
       "4                            23199                             26310  "
      ]
     },
     "execution_count": 31,
     "metadata": {},
     "output_type": "execute_result"
    }
   ],
   "source": [
    "df_eng.head()"
   ]
  },
  {
   "cell_type": "code",
   "execution_count": 40,
   "id": "f65b21ac",
   "metadata": {},
   "outputs": [
    {
     "name": "stdout",
     "output_type": "stream",
     "text": [
      "(26897, 14)\n"
     ]
    },
    {
     "data": {
      "text/plain": [
       "customerid                          0\n",
       "loannumber                          0\n",
       "loanamount                          0\n",
       "totaldue                            0\n",
       "termdays                            0\n",
       "good_bad_flag                       0\n",
       "dailypremium                        0\n",
       "paytime_days                        0\n",
       "payed_ontime_late                   0\n",
       "age                                 0\n",
       "bank_account_type_count             0\n",
       "bank_name_clients_count             0\n",
       "employment_status_clients_count     0\n",
       "level_of_education_clients_count    0\n",
       "dtype: int64"
      ]
     },
     "execution_count": 40,
     "metadata": {},
     "output_type": "execute_result"
    }
   ],
   "source": [
    "print(df_eng.shape)\n",
    "df_eng.isna().sum()"
   ]
  },
  {
   "cell_type": "code",
   "execution_count": 52,
   "id": "c5bbd37f",
   "metadata": {},
   "outputs": [
    {
     "data": {
      "text/plain": [
       "customerid                           object\n",
       "loannumber                          float64\n",
       "loanamount                          float64\n",
       "totaldue                            float64\n",
       "termdays                            float64\n",
       "good_bad_flag                         int64\n",
       "dailypremium                        float64\n",
       "paytime_days                        float64\n",
       "payed_ontime_late                     int64\n",
       "age                                 float64\n",
       "bank_account_type_count               int64\n",
       "bank_name_clients_count               int64\n",
       "employment_status_clients_count       int64\n",
       "level_of_education_clients_count      int64\n",
       "dtype: object"
      ]
     },
     "execution_count": 52,
     "metadata": {},
     "output_type": "execute_result"
    }
   ],
   "source": [
    "df_eng.dtypes"
   ]
  },
  {
   "cell_type": "code",
   "execution_count": 45,
   "id": "55b15988",
   "metadata": {},
   "outputs": [],
   "source": [
    "df_eng_group = df_eng.groupby('customerid').mean().round()"
   ]
  },
  {
   "cell_type": "code",
   "execution_count": 46,
   "id": "c34af9b7",
   "metadata": {
    "scrolled": true
   },
   "outputs": [
    {
     "name": "stdout",
     "output_type": "stream",
     "text": [
      "(5433, 13)\n"
     ]
    },
    {
     "data": {
      "text/html": [
       "<div>\n",
       "<style scoped>\n",
       "    .dataframe tbody tr th:only-of-type {\n",
       "        vertical-align: middle;\n",
       "    }\n",
       "\n",
       "    .dataframe tbody tr th {\n",
       "        vertical-align: top;\n",
       "    }\n",
       "\n",
       "    .dataframe thead th {\n",
       "        text-align: right;\n",
       "    }\n",
       "</style>\n",
       "<table border=\"1\" class=\"dataframe\">\n",
       "  <thead>\n",
       "    <tr style=\"text-align: right;\">\n",
       "      <th></th>\n",
       "      <th>loannumber</th>\n",
       "      <th>loanamount</th>\n",
       "      <th>totaldue</th>\n",
       "      <th>termdays</th>\n",
       "      <th>good_bad_flag</th>\n",
       "      <th>dailypremium</th>\n",
       "      <th>paytime_days</th>\n",
       "      <th>payed_ontime_late</th>\n",
       "      <th>age</th>\n",
       "      <th>bank_account_type_count</th>\n",
       "      <th>bank_name_clients_count</th>\n",
       "      <th>employment_status_clients_count</th>\n",
       "      <th>level_of_education_clients_count</th>\n",
       "    </tr>\n",
       "    <tr>\n",
       "      <th>customerid</th>\n",
       "      <th></th>\n",
       "      <th></th>\n",
       "      <th></th>\n",
       "      <th></th>\n",
       "      <th></th>\n",
       "      <th></th>\n",
       "      <th></th>\n",
       "      <th></th>\n",
       "      <th></th>\n",
       "      <th></th>\n",
       "      <th></th>\n",
       "      <th></th>\n",
       "      <th></th>\n",
       "    </tr>\n",
       "  </thead>\n",
       "  <tbody>\n",
       "    <tr>\n",
       "      <th>8a1088a0484472eb01484669e3ce4e0b</th>\n",
       "      <td>2.0</td>\n",
       "      <td>12252.0</td>\n",
       "      <td>14300.0</td>\n",
       "      <td>19.0</td>\n",
       "      <td>1.0</td>\n",
       "      <td>751.0</td>\n",
       "      <td>23.0</td>\n",
       "      <td>1.0</td>\n",
       "      <td>37.0</td>\n",
       "      <td>16176.0</td>\n",
       "      <td>15567.0</td>\n",
       "      <td>16515.0</td>\n",
       "      <td>17543.0</td>\n",
       "    </tr>\n",
       "    <tr>\n",
       "      <th>8a1a1e7e4f707f8b014f797718316cad</th>\n",
       "      <td>3.0</td>\n",
       "      <td>19459.0</td>\n",
       "      <td>24733.0</td>\n",
       "      <td>40.0</td>\n",
       "      <td>2.0</td>\n",
       "      <td>728.0</td>\n",
       "      <td>28.0</td>\n",
       "      <td>1.0</td>\n",
       "      <td>40.0</td>\n",
       "      <td>18937.0</td>\n",
       "      <td>18795.0</td>\n",
       "      <td>19857.0</td>\n",
       "      <td>21995.0</td>\n",
       "    </tr>\n",
       "    <tr>\n",
       "      <th>8a1a32fc49b632520149c3b8fdf85139</th>\n",
       "      <td>4.0</td>\n",
       "      <td>14084.0</td>\n",
       "      <td>16767.0</td>\n",
       "      <td>21.0</td>\n",
       "      <td>2.0</td>\n",
       "      <td>752.0</td>\n",
       "      <td>20.0</td>\n",
       "      <td>1.0</td>\n",
       "      <td>40.0</td>\n",
       "      <td>20426.0</td>\n",
       "      <td>20223.0</td>\n",
       "      <td>20971.0</td>\n",
       "      <td>23433.0</td>\n",
       "    </tr>\n",
       "    <tr>\n",
       "      <th>8a1eb5ba49a682300149c3c068b806c7</th>\n",
       "      <td>5.0</td>\n",
       "      <td>17675.0</td>\n",
       "      <td>22130.0</td>\n",
       "      <td>36.0</td>\n",
       "      <td>2.0</td>\n",
       "      <td>734.0</td>\n",
       "      <td>26.0</td>\n",
       "      <td>1.0</td>\n",
       "      <td>40.0</td>\n",
       "      <td>20638.0</td>\n",
       "      <td>20355.0</td>\n",
       "      <td>21194.0</td>\n",
       "      <td>23688.0</td>\n",
       "    </tr>\n",
       "    <tr>\n",
       "      <th>8a1edbf14734127f0147356fdb1b1eb2</th>\n",
       "      <td>2.0</td>\n",
       "      <td>10000.0</td>\n",
       "      <td>12000.0</td>\n",
       "      <td>20.0</td>\n",
       "      <td>2.0</td>\n",
       "      <td>751.0</td>\n",
       "      <td>20.0</td>\n",
       "      <td>1.0</td>\n",
       "      <td>39.0</td>\n",
       "      <td>22551.0</td>\n",
       "      <td>22551.0</td>\n",
       "      <td>23199.0</td>\n",
       "      <td>26310.0</td>\n",
       "    </tr>\n",
       "  </tbody>\n",
       "</table>\n",
       "</div>"
      ],
      "text/plain": [
       "                                  loannumber  loanamount  totaldue  termdays  \\\n",
       "customerid                                                                     \n",
       "8a1088a0484472eb01484669e3ce4e0b         2.0     12252.0   14300.0      19.0   \n",
       "8a1a1e7e4f707f8b014f797718316cad         3.0     19459.0   24733.0      40.0   \n",
       "8a1a32fc49b632520149c3b8fdf85139         4.0     14084.0   16767.0      21.0   \n",
       "8a1eb5ba49a682300149c3c068b806c7         5.0     17675.0   22130.0      36.0   \n",
       "8a1edbf14734127f0147356fdb1b1eb2         2.0     10000.0   12000.0      20.0   \n",
       "\n",
       "                                  good_bad_flag  dailypremium  paytime_days  \\\n",
       "customerid                                                                    \n",
       "8a1088a0484472eb01484669e3ce4e0b            1.0         751.0          23.0   \n",
       "8a1a1e7e4f707f8b014f797718316cad            2.0         728.0          28.0   \n",
       "8a1a32fc49b632520149c3b8fdf85139            2.0         752.0          20.0   \n",
       "8a1eb5ba49a682300149c3c068b806c7            2.0         734.0          26.0   \n",
       "8a1edbf14734127f0147356fdb1b1eb2            2.0         751.0          20.0   \n",
       "\n",
       "                                  payed_ontime_late   age  \\\n",
       "customerid                                                  \n",
       "8a1088a0484472eb01484669e3ce4e0b                1.0  37.0   \n",
       "8a1a1e7e4f707f8b014f797718316cad                1.0  40.0   \n",
       "8a1a32fc49b632520149c3b8fdf85139                1.0  40.0   \n",
       "8a1eb5ba49a682300149c3c068b806c7                1.0  40.0   \n",
       "8a1edbf14734127f0147356fdb1b1eb2                1.0  39.0   \n",
       "\n",
       "                                  bank_account_type_count  \\\n",
       "customerid                                                  \n",
       "8a1088a0484472eb01484669e3ce4e0b                  16176.0   \n",
       "8a1a1e7e4f707f8b014f797718316cad                  18937.0   \n",
       "8a1a32fc49b632520149c3b8fdf85139                  20426.0   \n",
       "8a1eb5ba49a682300149c3c068b806c7                  20638.0   \n",
       "8a1edbf14734127f0147356fdb1b1eb2                  22551.0   \n",
       "\n",
       "                                  bank_name_clients_count  \\\n",
       "customerid                                                  \n",
       "8a1088a0484472eb01484669e3ce4e0b                  15567.0   \n",
       "8a1a1e7e4f707f8b014f797718316cad                  18795.0   \n",
       "8a1a32fc49b632520149c3b8fdf85139                  20223.0   \n",
       "8a1eb5ba49a682300149c3c068b806c7                  20355.0   \n",
       "8a1edbf14734127f0147356fdb1b1eb2                  22551.0   \n",
       "\n",
       "                                  employment_status_clients_count  \\\n",
       "customerid                                                          \n",
       "8a1088a0484472eb01484669e3ce4e0b                          16515.0   \n",
       "8a1a1e7e4f707f8b014f797718316cad                          19857.0   \n",
       "8a1a32fc49b632520149c3b8fdf85139                          20971.0   \n",
       "8a1eb5ba49a682300149c3c068b806c7                          21194.0   \n",
       "8a1edbf14734127f0147356fdb1b1eb2                          23199.0   \n",
       "\n",
       "                                  level_of_education_clients_count  \n",
       "customerid                                                          \n",
       "8a1088a0484472eb01484669e3ce4e0b                           17543.0  \n",
       "8a1a1e7e4f707f8b014f797718316cad                           21995.0  \n",
       "8a1a32fc49b632520149c3b8fdf85139                           23433.0  \n",
       "8a1eb5ba49a682300149c3c068b806c7                           23688.0  \n",
       "8a1edbf14734127f0147356fdb1b1eb2                           26310.0  "
      ]
     },
     "execution_count": 46,
     "metadata": {},
     "output_type": "execute_result"
    }
   ],
   "source": [
    "print(df_eng_group.shape)\n",
    "df_eng_group.head()"
   ]
  },
  {
   "cell_type": "code",
   "execution_count": 49,
   "id": "675f81be",
   "metadata": {},
   "outputs": [],
   "source": [
    "df_eng_group[\"good_bad_flag\"] = df_eng_group[\"good_bad_flag\"].replace({2.0 : 1, 1.0 : 0, 0.0 : 1 })"
   ]
  },
  {
   "cell_type": "code",
   "execution_count": 50,
   "id": "360cb8c8",
   "metadata": {},
   "outputs": [
    {
     "name": "stdout",
     "output_type": "stream",
     "text": [
      "loannumber                            12\n",
      "loanamount                           543\n",
      "totaldue                            1522\n",
      "termdays                              39\n",
      "good_bad_flag                          2\n",
      "dailypremium                         146\n",
      "paytime_days                          45\n",
      "payed_ontime_late                      3\n",
      "age                                   34\n",
      "bank_account_type_count               57\n",
      "bank_name_clients_count              220\n",
      "employment_status_clients_count       81\n",
      "level_of_education_clients_count      65\n",
      "dtype: int64\n"
     ]
    }
   ],
   "source": [
    "print(df_eng_group.apply(lambda col : col.nunique()))"
   ]
  },
  {
   "cell_type": "code",
   "execution_count": 51,
   "id": "429ca6e2",
   "metadata": {},
   "outputs": [
    {
     "data": {
      "text/plain": [
       "1.0    5034\n",
       "0.0     399\n",
       "Name: good_bad_flag, dtype: int64"
      ]
     },
     "execution_count": 51,
     "metadata": {},
     "output_type": "execute_result"
    }
   ],
   "source": [
    "df_eng_group.good_bad_flag.value_counts()"
   ]
  },
  {
   "cell_type": "code",
   "execution_count": 55,
   "id": "fc06c8de",
   "metadata": {},
   "outputs": [
    {
     "data": {
      "text/plain": [
       "Index(['loannumber', 'loanamount', 'totaldue', 'termdays', 'good_bad_flag',\n",
       "       'dailypremium', 'paytime_days', 'payed_ontime_late', 'age',\n",
       "       'bank_account_type_count', 'bank_name_clients_count',\n",
       "       'employment_status_clients_count', 'level_of_education_clients_count'],\n",
       "      dtype='object')"
      ]
     },
     "execution_count": 55,
     "metadata": {},
     "output_type": "execute_result"
    }
   ],
   "source": [
    "df_eng_group.columns"
   ]
  },
  {
   "cell_type": "code",
   "execution_count": 56,
   "id": "b06b0a67",
   "metadata": {},
   "outputs": [],
   "source": [
    "#train test split\n",
    "X = df_eng_group.drop(labels=['good_bad_flag'], axis=1)\n",
    "y = df_eng_group[\"good_bad_flag\"]"
   ]
  },
  {
   "cell_type": "code",
   "execution_count": 81,
   "id": "6cbcb386",
   "metadata": {},
   "outputs": [
    {
     "data": {
      "text/plain": [
       "((4346, 12), (1087, 12), (4346,), (1087,))"
      ]
     },
     "execution_count": 81,
     "metadata": {},
     "output_type": "execute_result"
    }
   ],
   "source": [
    "X_train,X_test,y_train,y_test = train_test_split(X,y, test_size=0.2, stratify=y, random_state=42)\n",
    "X_train.shape,X_test.shape,y_train.shape,y_test.shape"
   ]
  },
  {
   "cell_type": "code",
   "execution_count": 82,
   "id": "911d8c43",
   "metadata": {},
   "outputs": [],
   "source": [
    "#Z score\n",
    "Xtrain_z = np.abs(stats.zscore(X_train))\n",
    "Xtest_z = np.abs(stats.zscore(X_test))"
   ]
  },
  {
   "cell_type": "code",
   "execution_count": 83,
   "id": "f1f3f724",
   "metadata": {},
   "outputs": [],
   "source": [
    "#standard scaler\n",
    "standard_scaler = StandardScaler()\n",
    "for k in Xtrain_z.columns:\n",
    "    standard_scaler.fit_transform(X_z[[k]])\n",
    "    \n",
    "standard_scaler = StandardScaler()\n",
    "for k in Xtest_z.columns:\n",
    "    standard_scaler.fit_transform(X_z[[k]])    \n",
    "    "
   ]
  },
  {
   "cell_type": "code",
   "execution_count": 84,
   "id": "d9d710c8",
   "metadata": {},
   "outputs": [
    {
     "data": {
      "text/html": [
       "<div>\n",
       "<style scoped>\n",
       "    .dataframe tbody tr th:only-of-type {\n",
       "        vertical-align: middle;\n",
       "    }\n",
       "\n",
       "    .dataframe tbody tr th {\n",
       "        vertical-align: top;\n",
       "    }\n",
       "\n",
       "    .dataframe thead th {\n",
       "        text-align: right;\n",
       "    }\n",
       "</style>\n",
       "<table border=\"1\" class=\"dataframe\">\n",
       "  <thead>\n",
       "    <tr style=\"text-align: right;\">\n",
       "      <th></th>\n",
       "      <th>loannumber</th>\n",
       "      <th>loanamount</th>\n",
       "      <th>totaldue</th>\n",
       "      <th>termdays</th>\n",
       "      <th>dailypremium</th>\n",
       "      <th>paytime_days</th>\n",
       "      <th>payed_ontime_late</th>\n",
       "      <th>age</th>\n",
       "      <th>bank_account_type_count</th>\n",
       "      <th>bank_name_clients_count</th>\n",
       "      <th>employment_status_clients_count</th>\n",
       "      <th>level_of_education_clients_count</th>\n",
       "    </tr>\n",
       "    <tr>\n",
       "      <th>customerid</th>\n",
       "      <th></th>\n",
       "      <th></th>\n",
       "      <th></th>\n",
       "      <th></th>\n",
       "      <th></th>\n",
       "      <th></th>\n",
       "      <th></th>\n",
       "      <th></th>\n",
       "      <th></th>\n",
       "      <th></th>\n",
       "      <th></th>\n",
       "      <th></th>\n",
       "    </tr>\n",
       "  </thead>\n",
       "  <tbody>\n",
       "    <tr>\n",
       "      <th>8a858f79588789bd015888469c4b2ee4</th>\n",
       "      <td>0.345677</td>\n",
       "      <td>0.525998</td>\n",
       "      <td>0.564591</td>\n",
       "      <td>0.296082</td>\n",
       "      <td>1.115518</td>\n",
       "      <td>0.835133</td>\n",
       "      <td>0.832990</td>\n",
       "      <td>0.002469</td>\n",
       "      <td>0.574705</td>\n",
       "      <td>0.581865</td>\n",
       "      <td>0.794384</td>\n",
       "      <td>0.232741</td>\n",
       "    </tr>\n",
       "    <tr>\n",
       "      <th>8a858f3e589c40610158a57d427715a6</th>\n",
       "      <td>1.725212</td>\n",
       "      <td>0.880509</td>\n",
       "      <td>0.647133</td>\n",
       "      <td>0.894454</td>\n",
       "      <td>0.213503</td>\n",
       "      <td>0.875881</td>\n",
       "      <td>0.832990</td>\n",
       "      <td>0.332843</td>\n",
       "      <td>0.707193</td>\n",
       "      <td>0.713032</td>\n",
       "      <td>0.576287</td>\n",
       "      <td>0.232741</td>\n",
       "    </tr>\n",
       "    <tr>\n",
       "      <th>8a858fb45bb59c21015bc44544c91e59</th>\n",
       "      <td>1.033857</td>\n",
       "      <td>1.147259</td>\n",
       "      <td>1.350052</td>\n",
       "      <td>2.283413</td>\n",
       "      <td>0.390684</td>\n",
       "      <td>1.517511</td>\n",
       "      <td>0.832990</td>\n",
       "      <td>0.002469</td>\n",
       "      <td>0.919029</td>\n",
       "      <td>0.923004</td>\n",
       "      <td>0.794384</td>\n",
       "      <td>0.232741</td>\n",
       "    </tr>\n",
       "    <tr>\n",
       "      <th>8a858f0056b7cf8e0156bd17f476237d</th>\n",
       "      <td>0.345677</td>\n",
       "      <td>0.446038</td>\n",
       "      <td>0.436735</td>\n",
       "      <td>0.097659</td>\n",
       "      <td>0.310147</td>\n",
       "      <td>0.020374</td>\n",
       "      <td>1.130228</td>\n",
       "      <td>1.003467</td>\n",
       "      <td>2.203931</td>\n",
       "      <td>1.968405</td>\n",
       "      <td>2.040036</td>\n",
       "      <td>0.232741</td>\n",
       "    </tr>\n",
       "    <tr>\n",
       "      <th>8a858f185b390ca6015b3911a4b90979</th>\n",
       "      <td>0.345677</td>\n",
       "      <td>0.446038</td>\n",
       "      <td>0.436735</td>\n",
       "      <td>0.097659</td>\n",
       "      <td>0.310147</td>\n",
       "      <td>0.020374</td>\n",
       "      <td>1.130228</td>\n",
       "      <td>6.373395</td>\n",
       "      <td>1.835270</td>\n",
       "      <td>2.001099</td>\n",
       "      <td>0.794384</td>\n",
       "      <td>0.232741</td>\n",
       "    </tr>\n",
       "  </tbody>\n",
       "</table>\n",
       "</div>"
      ],
      "text/plain": [
       "                                  loannumber  loanamount  totaldue  termdays  \\\n",
       "customerid                                                                     \n",
       "8a858f79588789bd015888469c4b2ee4    0.345677    0.525998  0.564591  0.296082   \n",
       "8a858f3e589c40610158a57d427715a6    1.725212    0.880509  0.647133  0.894454   \n",
       "8a858fb45bb59c21015bc44544c91e59    1.033857    1.147259  1.350052  2.283413   \n",
       "8a858f0056b7cf8e0156bd17f476237d    0.345677    0.446038  0.436735  0.097659   \n",
       "8a858f185b390ca6015b3911a4b90979    0.345677    0.446038  0.436735  0.097659   \n",
       "\n",
       "                                  dailypremium  paytime_days  \\\n",
       "customerid                                                     \n",
       "8a858f79588789bd015888469c4b2ee4      1.115518      0.835133   \n",
       "8a858f3e589c40610158a57d427715a6      0.213503      0.875881   \n",
       "8a858fb45bb59c21015bc44544c91e59      0.390684      1.517511   \n",
       "8a858f0056b7cf8e0156bd17f476237d      0.310147      0.020374   \n",
       "8a858f185b390ca6015b3911a4b90979      0.310147      0.020374   \n",
       "\n",
       "                                  payed_ontime_late       age  \\\n",
       "customerid                                                      \n",
       "8a858f79588789bd015888469c4b2ee4           0.832990  0.002469   \n",
       "8a858f3e589c40610158a57d427715a6           0.832990  0.332843   \n",
       "8a858fb45bb59c21015bc44544c91e59           0.832990  0.002469   \n",
       "8a858f0056b7cf8e0156bd17f476237d           1.130228  1.003467   \n",
       "8a858f185b390ca6015b3911a4b90979           1.130228  6.373395   \n",
       "\n",
       "                                  bank_account_type_count  \\\n",
       "customerid                                                  \n",
       "8a858f79588789bd015888469c4b2ee4                 0.574705   \n",
       "8a858f3e589c40610158a57d427715a6                 0.707193   \n",
       "8a858fb45bb59c21015bc44544c91e59                 0.919029   \n",
       "8a858f0056b7cf8e0156bd17f476237d                 2.203931   \n",
       "8a858f185b390ca6015b3911a4b90979                 1.835270   \n",
       "\n",
       "                                  bank_name_clients_count  \\\n",
       "customerid                                                  \n",
       "8a858f79588789bd015888469c4b2ee4                 0.581865   \n",
       "8a858f3e589c40610158a57d427715a6                 0.713032   \n",
       "8a858fb45bb59c21015bc44544c91e59                 0.923004   \n",
       "8a858f0056b7cf8e0156bd17f476237d                 1.968405   \n",
       "8a858f185b390ca6015b3911a4b90979                 2.001099   \n",
       "\n",
       "                                  employment_status_clients_count  \\\n",
       "customerid                                                          \n",
       "8a858f79588789bd015888469c4b2ee4                         0.794384   \n",
       "8a858f3e589c40610158a57d427715a6                         0.576287   \n",
       "8a858fb45bb59c21015bc44544c91e59                         0.794384   \n",
       "8a858f0056b7cf8e0156bd17f476237d                         2.040036   \n",
       "8a858f185b390ca6015b3911a4b90979                         0.794384   \n",
       "\n",
       "                                  level_of_education_clients_count  \n",
       "customerid                                                          \n",
       "8a858f79588789bd015888469c4b2ee4                          0.232741  \n",
       "8a858f3e589c40610158a57d427715a6                          0.232741  \n",
       "8a858fb45bb59c21015bc44544c91e59                          0.232741  \n",
       "8a858f0056b7cf8e0156bd17f476237d                          0.232741  \n",
       "8a858f185b390ca6015b3911a4b90979                          0.232741  "
      ]
     },
     "execution_count": 84,
     "metadata": {},
     "output_type": "execute_result"
    }
   ],
   "source": [
    "Xtrain_z.head()"
   ]
  },
  {
   "cell_type": "code",
   "execution_count": null,
   "id": "6bcde049",
   "metadata": {},
   "outputs": [],
   "source": []
  },
  {
   "cell_type": "code",
   "execution_count": 85,
   "id": "5b585378",
   "metadata": {},
   "outputs": [],
   "source": [
    "rf_clf = RandomForestClassifier(criterion='gini', bootstrap=True, random_state=100)\n",
    "smote_sampler = SMOTE(random_state=9)\n",
    "pipeline = Pipeline(steps = [['smote', smote_sampler],\n",
    "                             ['classifier', rf_clf]])\n",
    "pipeline.fit(Xtrain_z, y_train)\n",
    "y_pred = pipeline.predict(Xtest_z)"
   ]
  },
  {
   "cell_type": "code",
   "execution_count": 86,
   "id": "36e2e664",
   "metadata": {},
   "outputs": [
    {
     "name": "stdout",
     "output_type": "stream",
     "text": [
      "Recall: 79.05\n",
      "Precision: 98.88\n",
      "F1-Score: 87.8587\n",
      "Accuracy score: 79.76\n",
      "AUC Score: 83.9\n"
     ]
    }
   ],
   "source": [
    "#scores\n",
    "print(f\"Recall: { round(recall_score(y_test, y_pred)*100, 2) }\")\n",
    "print(f\"Precision: { round(precision_score(y_test, y_pred)*100, 2) }\")\n",
    "print(f\"F1-Score: { round(f1_score(y_test, y_pred)*100, 4) }\")\n",
    "print(f\"Accuracy score: { round(accuracy_score(y_test, y_pred)*100, 2) }\")\n",
    "print(f\"AUC Score: { round(roc_auc_score(y_test, y_pred)*100, 2) }\")"
   ]
  },
  {
   "cell_type": "code",
   "execution_count": 64,
   "id": "2468bc62",
   "metadata": {},
   "outputs": [],
   "source": [
    "#test \n",
    "#test\n",
    "#test"
   ]
  },
  {
   "cell_type": "code",
   "execution_count": 67,
   "id": "822cf877",
   "metadata": {},
   "outputs": [],
   "source": [
    "testperf = data_transform(testperf_df)\n",
    "testprevloans = prevloans_transform(testprevloans_df)\n",
    "testdemographics = demo_trans(testdemographics_df)"
   ]
  },
  {
   "cell_type": "code",
   "execution_count": 68,
   "id": "5cc61108",
   "metadata": {},
   "outputs": [
    {
     "data": {
      "text/plain": [
       "(8844, 25)"
      ]
     },
     "execution_count": 68,
     "metadata": {},
     "output_type": "execute_result"
    }
   ],
   "source": [
    "df_test = pd.concat((testperf,testprevloans,testdemographics),axis=0, join='outer', ignore_index=True, keys=None, levels=None, names=None, verify_integrity=False, sort=False, copy=None).reset_index()\n",
    "df_test.shape"
   ]
  },
  {
   "cell_type": "code",
   "execution_count": 71,
   "id": "8692cf0f",
   "metadata": {},
   "outputs": [],
   "source": [
    "def feature_engineering(df):\n",
    "    df[\"employment_status_clients\"].fillna(\"hustling\", inplace=True)\n",
    "    df[\"level_of_education_clients\"].fillna(\"illiterate\", inplace=True)\n",
    "    df[\"loannumber\"].fillna(df[\"loannumber\"].mean(), inplace=True)\n",
    "    df[\"loanamount\"].fillna(df[\"loanamount\"].mean(), inplace=True)\n",
    "    df[\"totaldue\"].fillna(df[\"totaldue\"].mean(), inplace=True)\n",
    "    df[\"termdays\"].fillna(df[\"termdays\"].mean(), inplace=True)\n",
    "    df[\"dailypremium\"].fillna(df[\"dailypremium\"].mean(), inplace=True)\n",
    "    df[\"paytime_days\"].fillna(df[\"paytime_days\"].mean(), inplace=True)\n",
    "    df[\"age\"].fillna(df[\"age\"].mean(), inplace=True)\n",
    "    \n",
    "    objects_columns = [\"bank_account_type\", \"bank_name_clients\", \"bank_branch_clients\",\n",
    "                   \"employment_status_clients\",\"level_of_education_clients\"]\n",
    "    for i in objects_columns:\n",
    "        df[i] = df[i].astype('category')\n",
    "        \n",
    "    labelencoder = LabelEncoder()\n",
    "    df['payed_ontime_late'] = labelencoder.fit_transform(df['payed_ontime_late'])\n",
    "    \n",
    "    categorical_columns = ['bank_account_type','bank_name_clients','employment_status_clients','level_of_education_clients']\n",
    "\n",
    "    count_encoder = ce.CountEncoder()\n",
    "    count_encoded = count_encoder.fit_transform(df[categorical_columns])\n",
    "    df = df.join(count_encoded.add_suffix(\"_count\"))\n",
    "    df_eng = df.drop(columns=['bank_account_type','bank_name_clients','employment_status_clients',\n",
    "                         'longitude_gps',\"approveddate\",'latitude_gps',\"birthdate\",'level_of_education_clients',\n",
    "                         \"systemloanid\",'closeddate','index','referredby',\"creationdate\",\"bank_branch_clients\",'firstduedate','firstrepaiddate'], axis=1)\n",
    "    \n",
    "    return df_eng\n",
    "\n",
    "\n",
    "    \n",
    "df_test_eng = feature_engineering(df_test)"
   ]
  },
  {
   "cell_type": "code",
   "execution_count": 72,
   "id": "0619b623",
   "metadata": {},
   "outputs": [
    {
     "name": "stdout",
     "output_type": "stream",
     "text": [
      "(8844, 13)\n"
     ]
    },
    {
     "data": {
      "text/html": [
       "<div>\n",
       "<style scoped>\n",
       "    .dataframe tbody tr th:only-of-type {\n",
       "        vertical-align: middle;\n",
       "    }\n",
       "\n",
       "    .dataframe tbody tr th {\n",
       "        vertical-align: top;\n",
       "    }\n",
       "\n",
       "    .dataframe thead th {\n",
       "        text-align: right;\n",
       "    }\n",
       "</style>\n",
       "<table border=\"1\" class=\"dataframe\">\n",
       "  <thead>\n",
       "    <tr style=\"text-align: right;\">\n",
       "      <th></th>\n",
       "      <th>customerid</th>\n",
       "      <th>loannumber</th>\n",
       "      <th>loanamount</th>\n",
       "      <th>totaldue</th>\n",
       "      <th>termdays</th>\n",
       "      <th>dailypremium</th>\n",
       "      <th>paytime_days</th>\n",
       "      <th>payed_ontime_late</th>\n",
       "      <th>age</th>\n",
       "      <th>bank_account_type_count</th>\n",
       "      <th>bank_name_clients_count</th>\n",
       "      <th>employment_status_clients_count</th>\n",
       "      <th>level_of_education_clients_count</th>\n",
       "    </tr>\n",
       "  </thead>\n",
       "  <tbody>\n",
       "    <tr>\n",
       "      <th>0</th>\n",
       "      <td>8a858899538ddb8e015390510b321f08</td>\n",
       "      <td>4.0</td>\n",
       "      <td>10000.0</td>\n",
       "      <td>12250.0</td>\n",
       "      <td>30.0</td>\n",
       "      <td>408.0</td>\n",
       "      <td>23.576604</td>\n",
       "      <td>2</td>\n",
       "      <td>39.033625</td>\n",
       "      <td>7357</td>\n",
       "      <td>7357</td>\n",
       "      <td>7574</td>\n",
       "      <td>8634</td>\n",
       "    </tr>\n",
       "    <tr>\n",
       "      <th>1</th>\n",
       "      <td>8a858959537a097401537a4e316e25f7</td>\n",
       "      <td>10.0</td>\n",
       "      <td>40000.0</td>\n",
       "      <td>44000.0</td>\n",
       "      <td>30.0</td>\n",
       "      <td>1467.0</td>\n",
       "      <td>23.576604</td>\n",
       "      <td>2</td>\n",
       "      <td>39.033625</td>\n",
       "      <td>7357</td>\n",
       "      <td>7357</td>\n",
       "      <td>7574</td>\n",
       "      <td>8634</td>\n",
       "    </tr>\n",
       "    <tr>\n",
       "      <th>2</th>\n",
       "      <td>8a8589c253ace09b0153af6ba58f1f31</td>\n",
       "      <td>6.0</td>\n",
       "      <td>20000.0</td>\n",
       "      <td>24500.0</td>\n",
       "      <td>30.0</td>\n",
       "      <td>817.0</td>\n",
       "      <td>23.576604</td>\n",
       "      <td>2</td>\n",
       "      <td>39.033625</td>\n",
       "      <td>7357</td>\n",
       "      <td>7357</td>\n",
       "      <td>7574</td>\n",
       "      <td>8634</td>\n",
       "    </tr>\n",
       "  </tbody>\n",
       "</table>\n",
       "</div>"
      ],
      "text/plain": [
       "                         customerid  loannumber  loanamount  totaldue  \\\n",
       "0  8a858899538ddb8e015390510b321f08         4.0     10000.0   12250.0   \n",
       "1  8a858959537a097401537a4e316e25f7        10.0     40000.0   44000.0   \n",
       "2  8a8589c253ace09b0153af6ba58f1f31         6.0     20000.0   24500.0   \n",
       "\n",
       "   termdays  dailypremium  paytime_days  payed_ontime_late        age  \\\n",
       "0      30.0         408.0     23.576604                  2  39.033625   \n",
       "1      30.0        1467.0     23.576604                  2  39.033625   \n",
       "2      30.0         817.0     23.576604                  2  39.033625   \n",
       "\n",
       "   bank_account_type_count  bank_name_clients_count  \\\n",
       "0                     7357                     7357   \n",
       "1                     7357                     7357   \n",
       "2                     7357                     7357   \n",
       "\n",
       "   employment_status_clients_count  level_of_education_clients_count  \n",
       "0                             7574                              8634  \n",
       "1                             7574                              8634  \n",
       "2                             7574                              8634  "
      ]
     },
     "execution_count": 72,
     "metadata": {},
     "output_type": "execute_result"
    }
   ],
   "source": [
    "print(df_test_eng.shape)\n",
    "df_test_eng.head(3)"
   ]
  },
  {
   "cell_type": "code",
   "execution_count": 73,
   "id": "a21bf2ac",
   "metadata": {
    "scrolled": false
   },
   "outputs": [
    {
     "data": {
      "text/plain": [
       "customerid                          0\n",
       "loannumber                          0\n",
       "loanamount                          0\n",
       "totaldue                            0\n",
       "termdays                            0\n",
       "dailypremium                        0\n",
       "paytime_days                        0\n",
       "payed_ontime_late                   0\n",
       "age                                 0\n",
       "bank_account_type_count             0\n",
       "bank_name_clients_count             0\n",
       "employment_status_clients_count     0\n",
       "level_of_education_clients_count    0\n",
       "dtype: int64"
      ]
     },
     "execution_count": 73,
     "metadata": {},
     "output_type": "execute_result"
    }
   ],
   "source": [
    "df_test_eng.isna().sum()"
   ]
  },
  {
   "cell_type": "code",
   "execution_count": 107,
   "id": "b1889165",
   "metadata": {},
   "outputs": [],
   "source": [
    "df_test_eng_group = df_test_eng.groupby('customerid').mean().round()"
   ]
  },
  {
   "cell_type": "code",
   "execution_count": 108,
   "id": "501e9cb8",
   "metadata": {},
   "outputs": [
    {
     "name": "stdout",
     "output_type": "stream",
     "text": [
      "(2549, 12)\n"
     ]
    }
   ],
   "source": [
    "print(df_test_eng_group.shape)"
   ]
  },
  {
   "cell_type": "code",
   "execution_count": 109,
   "id": "152960f8",
   "metadata": {},
   "outputs": [],
   "source": [
    "#Z score o test dataset\n",
    "test_z = np.abs(stats.zscore(df_test_eng_group))"
   ]
  },
  {
   "cell_type": "code",
   "execution_count": 110,
   "id": "9e3e673a",
   "metadata": {},
   "outputs": [],
   "source": [
    "#standard scaler\n",
    "standard_scaler = StandardScaler()\n",
    "for k in test_z.columns:\n",
    "    standard_scaler.fit_transform(X_z[[k]])"
   ]
  },
  {
   "cell_type": "code",
   "execution_count": 111,
   "id": "25211f11",
   "metadata": {},
   "outputs": [
    {
     "name": "stdout",
     "output_type": "stream",
     "text": [
      "(2549, 13)\n"
     ]
    },
    {
     "data": {
      "text/html": [
       "<div>\n",
       "<style scoped>\n",
       "    .dataframe tbody tr th:only-of-type {\n",
       "        vertical-align: middle;\n",
       "    }\n",
       "\n",
       "    .dataframe tbody tr th {\n",
       "        vertical-align: top;\n",
       "    }\n",
       "\n",
       "    .dataframe thead th {\n",
       "        text-align: right;\n",
       "    }\n",
       "</style>\n",
       "<table border=\"1\" class=\"dataframe\">\n",
       "  <thead>\n",
       "    <tr style=\"text-align: right;\">\n",
       "      <th></th>\n",
       "      <th>customerid</th>\n",
       "      <th>loannumber</th>\n",
       "      <th>loanamount</th>\n",
       "      <th>totaldue</th>\n",
       "      <th>termdays</th>\n",
       "      <th>dailypremium</th>\n",
       "      <th>paytime_days</th>\n",
       "      <th>payed_ontime_late</th>\n",
       "      <th>age</th>\n",
       "      <th>bank_account_type_count</th>\n",
       "      <th>bank_name_clients_count</th>\n",
       "      <th>employment_status_clients_count</th>\n",
       "      <th>level_of_education_clients_count</th>\n",
       "    </tr>\n",
       "  </thead>\n",
       "  <tbody>\n",
       "    <tr>\n",
       "      <th>0</th>\n",
       "      <td>8a1edbf14734127f0147356fdb1b1eb2</td>\n",
       "      <td>0.326797</td>\n",
       "      <td>0.407467</td>\n",
       "      <td>0.398787</td>\n",
       "      <td>0.106251</td>\n",
       "      <td>0.276811</td>\n",
       "      <td>0.038414</td>\n",
       "      <td>0.841737</td>\n",
       "      <td>1.428217</td>\n",
       "      <td>1.063457</td>\n",
       "      <td>1.050944</td>\n",
       "      <td>1.244966</td>\n",
       "      <td>3.868299</td>\n",
       "    </tr>\n",
       "    <tr>\n",
       "      <th>1</th>\n",
       "      <td>8a28afc7474813a40147639ec637156b</td>\n",
       "      <td>1.815633</td>\n",
       "      <td>0.897230</td>\n",
       "      <td>0.859760</td>\n",
       "      <td>0.964682</td>\n",
       "      <td>0.541922</td>\n",
       "      <td>0.427750</td>\n",
       "      <td>1.084284</td>\n",
       "      <td>0.017392</td>\n",
       "      <td>0.972766</td>\n",
       "      <td>0.976201</td>\n",
       "      <td>0.839905</td>\n",
       "      <td>0.270232</td>\n",
       "    </tr>\n",
       "    <tr>\n",
       "      <th>2</th>\n",
       "      <td>8a2ac4745091002b0150a144bcbe58b7</td>\n",
       "      <td>0.326797</td>\n",
       "      <td>0.407467</td>\n",
       "      <td>0.398787</td>\n",
       "      <td>0.106251</td>\n",
       "      <td>0.276811</td>\n",
       "      <td>0.038414</td>\n",
       "      <td>0.841737</td>\n",
       "      <td>0.499262</td>\n",
       "      <td>1.343647</td>\n",
       "      <td>1.050944</td>\n",
       "      <td>1.244966</td>\n",
       "      <td>0.270232</td>\n",
       "    </tr>\n",
       "    <tr>\n",
       "      <th>3</th>\n",
       "      <td>8a3735d5518aba7301518ac34413010d</td>\n",
       "      <td>0.326797</td>\n",
       "      <td>0.512381</td>\n",
       "      <td>0.409217</td>\n",
       "      <td>0.320859</td>\n",
       "      <td>0.459075</td>\n",
       "      <td>1.518929</td>\n",
       "      <td>1.084284</td>\n",
       "      <td>0.017392</td>\n",
       "      <td>0.972766</td>\n",
       "      <td>0.976201</td>\n",
       "      <td>0.839905</td>\n",
       "      <td>0.270232</td>\n",
       "    </tr>\n",
       "    <tr>\n",
       "      <th>4</th>\n",
       "      <td>8a390a2150ad97330150aebdd8ef7456</td>\n",
       "      <td>0.326797</td>\n",
       "      <td>0.407467</td>\n",
       "      <td>0.398787</td>\n",
       "      <td>0.106251</td>\n",
       "      <td>0.276811</td>\n",
       "      <td>0.038414</td>\n",
       "      <td>0.841737</td>\n",
       "      <td>0.981131</td>\n",
       "      <td>1.063457</td>\n",
       "      <td>1.169506</td>\n",
       "      <td>1.244966</td>\n",
       "      <td>3.807212</td>\n",
       "    </tr>\n",
       "  </tbody>\n",
       "</table>\n",
       "</div>"
      ],
      "text/plain": [
       "                         customerid  loannumber  loanamount  totaldue  \\\n",
       "0  8a1edbf14734127f0147356fdb1b1eb2    0.326797    0.407467  0.398787   \n",
       "1  8a28afc7474813a40147639ec637156b    1.815633    0.897230  0.859760   \n",
       "2  8a2ac4745091002b0150a144bcbe58b7    0.326797    0.407467  0.398787   \n",
       "3  8a3735d5518aba7301518ac34413010d    0.326797    0.512381  0.409217   \n",
       "4  8a390a2150ad97330150aebdd8ef7456    0.326797    0.407467  0.398787   \n",
       "\n",
       "   termdays  dailypremium  paytime_days  payed_ontime_late       age  \\\n",
       "0  0.106251      0.276811      0.038414           0.841737  1.428217   \n",
       "1  0.964682      0.541922      0.427750           1.084284  0.017392   \n",
       "2  0.106251      0.276811      0.038414           0.841737  0.499262   \n",
       "3  0.320859      0.459075      1.518929           1.084284  0.017392   \n",
       "4  0.106251      0.276811      0.038414           0.841737  0.981131   \n",
       "\n",
       "   bank_account_type_count  bank_name_clients_count  \\\n",
       "0                 1.063457                 1.050944   \n",
       "1                 0.972766                 0.976201   \n",
       "2                 1.343647                 1.050944   \n",
       "3                 0.972766                 0.976201   \n",
       "4                 1.063457                 1.169506   \n",
       "\n",
       "   employment_status_clients_count  level_of_education_clients_count  \n",
       "0                         1.244966                          3.868299  \n",
       "1                         0.839905                          0.270232  \n",
       "2                         1.244966                          0.270232  \n",
       "3                         0.839905                          0.270232  \n",
       "4                         1.244966                          3.807212  "
      ]
     },
     "execution_count": 111,
     "metadata": {},
     "output_type": "execute_result"
    }
   ],
   "source": [
    "test_z.reset_index(level=0, inplace=True)\n",
    "print(test_z.shape)\n",
    "test_z.head()"
   ]
  },
  {
   "cell_type": "code",
   "execution_count": 112,
   "id": "ec98c144",
   "metadata": {},
   "outputs": [],
   "source": [
    "test_predict = pipeline.predict(test_z.drop('customerid', axis=1))"
   ]
  },
  {
   "cell_type": "code",
   "execution_count": 115,
   "id": "f842cfa6",
   "metadata": {},
   "outputs": [],
   "source": [
    "test_output = test_z[['customerid']]\n",
    "test_output['Good_Bad_flag'] = test_predict\n",
    "test_output.rename({'customerid': 'customerID'}, inplace=True, axis =1)\n",
    "test_output.to_csv('group_submisssion_fle.csv', index=False)"
   ]
  },
  {
   "cell_type": "code",
   "execution_count": null,
   "id": "94fe36d4",
   "metadata": {},
   "outputs": [],
   "source": []
  },
  {
   "cell_type": "code",
   "execution_count": 116,
   "id": "ccc82e6e",
   "metadata": {},
   "outputs": [],
   "source": [
    "sub = pd.read_csv('group_submisssion_fle.csv')"
   ]
  },
  {
   "cell_type": "code",
   "execution_count": 117,
   "id": "a1139d9c",
   "metadata": {},
   "outputs": [
    {
     "data": {
      "text/html": [
       "<div>\n",
       "<style scoped>\n",
       "    .dataframe tbody tr th:only-of-type {\n",
       "        vertical-align: middle;\n",
       "    }\n",
       "\n",
       "    .dataframe tbody tr th {\n",
       "        vertical-align: top;\n",
       "    }\n",
       "\n",
       "    .dataframe thead th {\n",
       "        text-align: right;\n",
       "    }\n",
       "</style>\n",
       "<table border=\"1\" class=\"dataframe\">\n",
       "  <thead>\n",
       "    <tr style=\"text-align: right;\">\n",
       "      <th></th>\n",
       "      <th>customerID</th>\n",
       "      <th>Good_Bad_flag</th>\n",
       "    </tr>\n",
       "  </thead>\n",
       "  <tbody>\n",
       "    <tr>\n",
       "      <th>0</th>\n",
       "      <td>8a1edbf14734127f0147356fdb1b1eb2</td>\n",
       "      <td>1.0</td>\n",
       "    </tr>\n",
       "    <tr>\n",
       "      <th>1</th>\n",
       "      <td>8a28afc7474813a40147639ec637156b</td>\n",
       "      <td>1.0</td>\n",
       "    </tr>\n",
       "    <tr>\n",
       "      <th>2</th>\n",
       "      <td>8a2ac4745091002b0150a144bcbe58b7</td>\n",
       "      <td>1.0</td>\n",
       "    </tr>\n",
       "    <tr>\n",
       "      <th>3</th>\n",
       "      <td>8a3735d5518aba7301518ac34413010d</td>\n",
       "      <td>1.0</td>\n",
       "    </tr>\n",
       "    <tr>\n",
       "      <th>4</th>\n",
       "      <td>8a390a2150ad97330150aebdd8ef7456</td>\n",
       "      <td>1.0</td>\n",
       "    </tr>\n",
       "  </tbody>\n",
       "</table>\n",
       "</div>"
      ],
      "text/plain": [
       "                         customerID  Good_Bad_flag\n",
       "0  8a1edbf14734127f0147356fdb1b1eb2            1.0\n",
       "1  8a28afc7474813a40147639ec637156b            1.0\n",
       "2  8a2ac4745091002b0150a144bcbe58b7            1.0\n",
       "3  8a3735d5518aba7301518ac34413010d            1.0\n",
       "4  8a390a2150ad97330150aebdd8ef7456            1.0"
      ]
     },
     "execution_count": 117,
     "metadata": {},
     "output_type": "execute_result"
    }
   ],
   "source": [
    "sub.head()"
   ]
  },
  {
   "cell_type": "code",
   "execution_count": 118,
   "id": "13e1a51f",
   "metadata": {},
   "outputs": [
    {
     "data": {
      "text/plain": [
       "1.0    2352\n",
       "0.0     197\n",
       "Name: Good_Bad_flag, dtype: int64"
      ]
     },
     "execution_count": 118,
     "metadata": {},
     "output_type": "execute_result"
    }
   ],
   "source": [
    "sub[\"Good_Bad_flag\"].value_counts()"
   ]
  },
  {
   "cell_type": "code",
   "execution_count": null,
   "id": "6a53bbf9",
   "metadata": {},
   "outputs": [],
   "source": []
  },
  {
   "cell_type": "markdown",
   "id": "2dde29f3",
   "metadata": {},
   "source": [
    "<h2 style=\"font-size:3rem;color:green;\">Random Forest Classifier</h2>"
   ]
  },
  {
   "cell_type": "code",
   "execution_count": 120,
   "id": "02f880bd",
   "metadata": {},
   "outputs": [],
   "source": [
    "from sklearn.ensemble import RandomForestClassifier\n",
    "from sklearn.metrics import accuracy_score"
   ]
  },
  {
   "cell_type": "code",
   "execution_count": 123,
   "id": "ba42b0a5",
   "metadata": {},
   "outputs": [],
   "source": [
    "rf = RandomForestClassifier(n_estimators=100)\n",
    "rf.fit(Xtrain_z, y_train)\n",
    "rf_pred = rf.predict(Xtest_z)"
   ]
  },
  {
   "cell_type": "code",
   "execution_count": 124,
   "id": "2438074a",
   "metadata": {},
   "outputs": [
    {
     "name": "stdout",
     "output_type": "stream",
     "text": [
      "Recall: 99.4\n",
      "Precision: 93.2\n",
      "F1-Score: 96.2037\n",
      "Accuracy score: 92.73\n",
      "AUC Score: 54.08\n"
     ]
    }
   ],
   "source": [
    "#scores\n",
    "print(f\"Recall: { round(recall_score(y_test, rf_pred)*100, 2) }\")\n",
    "print(f\"Precision: { round(precision_score(y_test, rf_pred)*100, 2) }\")\n",
    "print(f\"F1-Score: { round(f1_score(y_test, rf_pred)*100, 4) }\")\n",
    "print(f\"Accuracy score: { round(accuracy_score(y_test, rf_pred)*100, 2) }\")\n",
    "print(f\"AUC Score: { round(roc_auc_score(y_test, rf_pred)*100, 2) }\")"
   ]
  },
  {
   "cell_type": "code",
   "execution_count": 125,
   "id": "23539b31",
   "metadata": {},
   "outputs": [],
   "source": [
    "rf_test_predict = rf.predict(test_z.drop('customerid', axis=1))"
   ]
  },
  {
   "cell_type": "code",
   "execution_count": 126,
   "id": "aabc7f09",
   "metadata": {},
   "outputs": [],
   "source": [
    "test_output = test_z[['customerid']]\n",
    "test_output['Good_Bad_flag'] = test_predict\n",
    "test_output.rename({'customerid': 'customerID'}, inplace=True, axis =1)\n",
    "test_output.to_csv('rf_sub.csv', index=False)"
   ]
  },
  {
   "cell_type": "markdown",
   "id": "b432aab6",
   "metadata": {},
   "source": [
    "<h2 style=\"font-size:3rem;color:purple;\">Support Vector Machine</h2>"
   ]
  },
  {
   "cell_type": "code",
   "execution_count": 133,
   "id": "b3f8ffd5",
   "metadata": {},
   "outputs": [
    {
     "name": "stdout",
     "output_type": "stream",
     "text": [
      "Recall: 99.4\n",
      "Precision: 93.2\n",
      "F1-Score: 96.2037\n",
      "Accuracy score: 92.73\n",
      "AUC Score: 54.08\n"
     ]
    }
   ],
   "source": [
    "from sklearn import svm\n",
    "svm = svm.LinearSVC()\n",
    "svm.fit(Xtrain_z, y_train)\n",
    "rf_pred = rf.predict(Xtest_z)\n",
    "#scores\n",
    "print(f\"Recall: { round(recall_score(y_test, rf_pred)*100, 2) }\")\n",
    "print(f\"Precision: { round(precision_score(y_test, rf_pred)*100, 2) }\")\n",
    "print(f\"F1-Score: { round(f1_score(y_test, rf_pred)*100, 4) }\")\n",
    "print(f\"Accuracy score: { round(accuracy_score(y_test, rf_pred)*100, 2) }\")\n",
    "print(f\"AUC Score: { round(roc_auc_score(y_test, rf_pred)*100, 2) }\")"
   ]
  },
  {
   "cell_type": "code",
   "execution_count": null,
   "id": "869cc6dc",
   "metadata": {},
   "outputs": [],
   "source": []
  },
  {
   "cell_type": "code",
   "execution_count": null,
   "id": "a8ef780f",
   "metadata": {},
   "outputs": [],
   "source": []
  },
  {
   "cell_type": "code",
   "execution_count": null,
   "id": "6be0150b",
   "metadata": {},
   "outputs": [],
   "source": []
  },
  {
   "cell_type": "code",
   "execution_count": null,
   "id": "b1c46d57",
   "metadata": {},
   "outputs": [],
   "source": []
  },
  {
   "cell_type": "code",
   "execution_count": 217,
   "id": "efedb6cb",
   "metadata": {},
   "outputs": [
    {
     "data": {
      "text/html": [
       "<div>\n",
       "<style scoped>\n",
       "    .dataframe tbody tr th:only-of-type {\n",
       "        vertical-align: middle;\n",
       "    }\n",
       "\n",
       "    .dataframe tbody tr th {\n",
       "        vertical-align: top;\n",
       "    }\n",
       "\n",
       "    .dataframe thead th {\n",
       "        text-align: right;\n",
       "    }\n",
       "</style>\n",
       "<table border=\"1\" class=\"dataframe\">\n",
       "  <thead>\n",
       "    <tr style=\"text-align: right;\">\n",
       "      <th></th>\n",
       "      <th>id</th>\n",
       "      <th>age</th>\n",
       "      <th>names</th>\n",
       "    </tr>\n",
       "  </thead>\n",
       "  <tbody>\n",
       "    <tr>\n",
       "      <th>0</th>\n",
       "      <td>233</td>\n",
       "      <td>23</td>\n",
       "      <td>james</td>\n",
       "    </tr>\n",
       "    <tr>\n",
       "      <th>1</th>\n",
       "      <td>456</td>\n",
       "      <td>34</td>\n",
       "      <td>joan</td>\n",
       "    </tr>\n",
       "    <tr>\n",
       "      <th>2</th>\n",
       "      <td>478</td>\n",
       "      <td>45</td>\n",
       "      <td>ashley</td>\n",
       "    </tr>\n",
       "    <tr>\n",
       "      <th>3</th>\n",
       "      <td>890</td>\n",
       "      <td>65</td>\n",
       "      <td>brian</td>\n",
       "    </tr>\n",
       "  </tbody>\n",
       "</table>\n",
       "</div>"
      ],
      "text/plain": [
       "    id  age   names\n",
       "0  233   23   james\n",
       "1  456   34    joan\n",
       "2  478   45  ashley\n",
       "3  890   65   brian"
      ]
     },
     "execution_count": 217,
     "metadata": {},
     "output_type": "execute_result"
    }
   ],
   "source": [
    "x = {'id' : (233,456,478,890),\n",
    "     'age' : (23,34,45,65),\n",
    "    'names' : ('james', 'joan', 'ashley','brian')}\n",
    "df_x = pd.DataFrame(x)\n",
    "df_x"
   ]
  },
  {
   "cell_type": "code",
   "execution_count": 218,
   "id": "c798667b",
   "metadata": {},
   "outputs": [
    {
     "data": {
      "text/html": [
       "<div>\n",
       "<style scoped>\n",
       "    .dataframe tbody tr th:only-of-type {\n",
       "        vertical-align: middle;\n",
       "    }\n",
       "\n",
       "    .dataframe tbody tr th {\n",
       "        vertical-align: top;\n",
       "    }\n",
       "\n",
       "    .dataframe thead th {\n",
       "        text-align: right;\n",
       "    }\n",
       "</style>\n",
       "<table border=\"1\" class=\"dataframe\">\n",
       "  <thead>\n",
       "    <tr style=\"text-align: right;\">\n",
       "      <th></th>\n",
       "      <th>gender</th>\n",
       "      <th>id</th>\n",
       "      <th>location</th>\n",
       "    </tr>\n",
       "  </thead>\n",
       "  <tbody>\n",
       "    <tr>\n",
       "      <th>0</th>\n",
       "      <td>male</td>\n",
       "      <td>234</td>\n",
       "      <td>embakasi</td>\n",
       "    </tr>\n",
       "    <tr>\n",
       "      <th>1</th>\n",
       "      <td>female</td>\n",
       "      <td>456</td>\n",
       "      <td>fedha</td>\n",
       "    </tr>\n",
       "    <tr>\n",
       "      <th>2</th>\n",
       "      <td>female</td>\n",
       "      <td>478</td>\n",
       "      <td>tassia</td>\n",
       "    </tr>\n",
       "    <tr>\n",
       "      <th>3</th>\n",
       "      <td>male</td>\n",
       "      <td>890</td>\n",
       "      <td>gm</td>\n",
       "    </tr>\n",
       "  </tbody>\n",
       "</table>\n",
       "</div>"
      ],
      "text/plain": [
       "   gender   id  location\n",
       "0    male  234  embakasi\n",
       "1  female  456     fedha\n",
       "2  female  478    tassia\n",
       "3    male  890        gm"
      ]
     },
     "execution_count": 218,
     "metadata": {},
     "output_type": "execute_result"
    }
   ],
   "source": [
    "y = {'gender' : ('male', 'female', 'female', 'male'),\n",
    "     'id' : (234,456,890,478,890),\n",
    "    'location' : ('embakasi', 'fedha', 'tassia', 'gm')}\n",
    "df_y = pd.DataFrame(y)\n",
    "df_y"
   ]
  },
  {
   "cell_type": "code",
   "execution_count": 223,
   "id": "b56908ba",
   "metadata": {},
   "outputs": [
    {
     "data": {
      "text/html": [
       "<div>\n",
       "<style scoped>\n",
       "    .dataframe tbody tr th:only-of-type {\n",
       "        vertical-align: middle;\n",
       "    }\n",
       "\n",
       "    .dataframe tbody tr th {\n",
       "        vertical-align: top;\n",
       "    }\n",
       "\n",
       "    .dataframe thead th {\n",
       "        text-align: right;\n",
       "    }\n",
       "</style>\n",
       "<table border=\"1\" class=\"dataframe\">\n",
       "  <thead>\n",
       "    <tr style=\"text-align: right;\">\n",
       "      <th></th>\n",
       "      <th>id</th>\n",
       "      <th>age</th>\n",
       "      <th>names</th>\n",
       "      <th>gender</th>\n",
       "      <th>location</th>\n",
       "    </tr>\n",
       "  </thead>\n",
       "  <tbody>\n",
       "    <tr>\n",
       "      <th>0</th>\n",
       "      <td>233</td>\n",
       "      <td>23</td>\n",
       "      <td>james</td>\n",
       "      <td>NaN</td>\n",
       "      <td>NaN</td>\n",
       "    </tr>\n",
       "    <tr>\n",
       "      <th>1</th>\n",
       "      <td>456</td>\n",
       "      <td>34</td>\n",
       "      <td>joan</td>\n",
       "      <td>female</td>\n",
       "      <td>fedha</td>\n",
       "    </tr>\n",
       "    <tr>\n",
       "      <th>2</th>\n",
       "      <td>478</td>\n",
       "      <td>45</td>\n",
       "      <td>ashley</td>\n",
       "      <td>female</td>\n",
       "      <td>tassia</td>\n",
       "    </tr>\n",
       "    <tr>\n",
       "      <th>3</th>\n",
       "      <td>890</td>\n",
       "      <td>65</td>\n",
       "      <td>brian</td>\n",
       "      <td>male</td>\n",
       "      <td>gm</td>\n",
       "    </tr>\n",
       "  </tbody>\n",
       "</table>\n",
       "</div>"
      ],
      "text/plain": [
       "    id  age   names  gender location\n",
       "0  233   23   james     NaN      NaN\n",
       "1  456   34    joan  female    fedha\n",
       "2  478   45  ashley  female   tassia\n",
       "3  890   65   brian    male       gm"
      ]
     },
     "execution_count": 223,
     "metadata": {},
     "output_type": "execute_result"
    }
   ],
   "source": [
    "#df.merge\n",
    "pd_merge = pd.merge(df_x,df_y, how='left')\n",
    "pd_merge"
   ]
  },
  {
   "cell_type": "code",
   "execution_count": 219,
   "id": "5e5bb430",
   "metadata": {},
   "outputs": [
    {
     "data": {
      "text/html": [
       "<div>\n",
       "<style scoped>\n",
       "    .dataframe tbody tr th:only-of-type {\n",
       "        vertical-align: middle;\n",
       "    }\n",
       "\n",
       "    .dataframe tbody tr th {\n",
       "        vertical-align: top;\n",
       "    }\n",
       "\n",
       "    .dataframe thead th {\n",
       "        text-align: right;\n",
       "    }\n",
       "</style>\n",
       "<table border=\"1\" class=\"dataframe\">\n",
       "  <thead>\n",
       "    <tr style=\"text-align: right;\">\n",
       "      <th></th>\n",
       "      <th>id</th>\n",
       "      <th>age</th>\n",
       "      <th>names</th>\n",
       "      <th>gender</th>\n",
       "      <th>location</th>\n",
       "    </tr>\n",
       "  </thead>\n",
       "  <tbody>\n",
       "    <tr>\n",
       "      <th>0</th>\n",
       "      <td>456</td>\n",
       "      <td>34</td>\n",
       "      <td>joan</td>\n",
       "      <td>female</td>\n",
       "      <td>fedha</td>\n",
       "    </tr>\n",
       "    <tr>\n",
       "      <th>1</th>\n",
       "      <td>478</td>\n",
       "      <td>45</td>\n",
       "      <td>ashley</td>\n",
       "      <td>female</td>\n",
       "      <td>tassia</td>\n",
       "    </tr>\n",
       "    <tr>\n",
       "      <th>2</th>\n",
       "      <td>890</td>\n",
       "      <td>65</td>\n",
       "      <td>brian</td>\n",
       "      <td>male</td>\n",
       "      <td>gm</td>\n",
       "    </tr>\n",
       "  </tbody>\n",
       "</table>\n",
       "</div>"
      ],
      "text/plain": [
       "    id  age   names  gender location\n",
       "0  456   34    joan  female    fedha\n",
       "1  478   45  ashley  female   tassia\n",
       "2  890   65   brian    male       gm"
      ]
     },
     "execution_count": 219,
     "metadata": {},
     "output_type": "execute_result"
    }
   ],
   "source": [
    "#pd.merge\n",
    "df_merge = pd.merge(df_x,df_y, on='id', )\n",
    "df_merge"
   ]
  },
  {
   "cell_type": "code",
   "execution_count": 51,
   "id": "35e7ddd8",
   "metadata": {},
   "outputs": [],
   "source": [
    "import pandas as pd\n",
    "testperf = pd.read_csv(\"testperf.csv\")\n",
    "testprevloans = pd.read_csv(\"testprevloans.csv\")\n",
    "testdemographics = pd.read_csv(\"testdemographics.csv\")"
   ]
  },
  {
   "cell_type": "code",
   "execution_count": 52,
   "id": "daacb3de",
   "metadata": {},
   "outputs": [
    {
     "data": {
      "text/plain": [
       "8844"
      ]
     },
     "execution_count": 52,
     "metadata": {},
     "output_type": "execute_result"
    }
   ],
   "source": [
    "testperf.shape[0]+testprevloans.shape[0]+testdemographics.shape[0]"
   ]
  },
  {
   "cell_type": "code",
   "execution_count": 53,
   "id": "48907699",
   "metadata": {},
   "outputs": [
    {
     "data": {
      "text/plain": [
       "(8844, 2)"
      ]
     },
     "execution_count": 53,
     "metadata": {},
     "output_type": "execute_result"
    }
   ],
   "source": [
    "df_conc = pd.concat((testperf[\"customerid\"],testprevloans[\"customerid\"],testdemographics[\"customerid\"]),axis=0, join='outer', ignore_index=False, keys=None, levels=None, names=None, verify_integrity=False, sort=False, copy=None).reset_index()\n",
    "df_conc.shape"
   ]
  },
  {
   "cell_type": "code",
   "execution_count": 54,
   "id": "1973234c",
   "metadata": {},
   "outputs": [
    {
     "data": {
      "text/html": [
       "<div>\n",
       "<style scoped>\n",
       "    .dataframe tbody tr th:only-of-type {\n",
       "        vertical-align: middle;\n",
       "    }\n",
       "\n",
       "    .dataframe tbody tr th {\n",
       "        vertical-align: top;\n",
       "    }\n",
       "\n",
       "    .dataframe thead th {\n",
       "        text-align: right;\n",
       "    }\n",
       "</style>\n",
       "<table border=\"1\" class=\"dataframe\">\n",
       "  <thead>\n",
       "    <tr style=\"text-align: right;\">\n",
       "      <th></th>\n",
       "      <th>index</th>\n",
       "      <th>customerid</th>\n",
       "    </tr>\n",
       "  </thead>\n",
       "  <tbody>\n",
       "    <tr>\n",
       "      <th>0</th>\n",
       "      <td>0</td>\n",
       "      <td>8a858899538ddb8e015390510b321f08</td>\n",
       "    </tr>\n",
       "    <tr>\n",
       "      <th>1</th>\n",
       "      <td>1</td>\n",
       "      <td>8a858959537a097401537a4e316e25f7</td>\n",
       "    </tr>\n",
       "    <tr>\n",
       "      <th>2</th>\n",
       "      <td>2</td>\n",
       "      <td>8a8589c253ace09b0153af6ba58f1f31</td>\n",
       "    </tr>\n",
       "    <tr>\n",
       "      <th>3</th>\n",
       "      <td>3</td>\n",
       "      <td>8a858e095aae82b7015aae86ca1e030b</td>\n",
       "    </tr>\n",
       "    <tr>\n",
       "      <th>4</th>\n",
       "      <td>4</td>\n",
       "      <td>8a858e225a28c713015a30db5c48383d</td>\n",
       "    </tr>\n",
       "  </tbody>\n",
       "</table>\n",
       "</div>"
      ],
      "text/plain": [
       "   index                        customerid\n",
       "0      0  8a858899538ddb8e015390510b321f08\n",
       "1      1  8a858959537a097401537a4e316e25f7\n",
       "2      2  8a8589c253ace09b0153af6ba58f1f31\n",
       "3      3  8a858e095aae82b7015aae86ca1e030b\n",
       "4      4  8a858e225a28c713015a30db5c48383d"
      ]
     },
     "execution_count": 54,
     "metadata": {},
     "output_type": "execute_result"
    }
   ],
   "source": [
    "df_conc.head()"
   ]
  },
  {
   "cell_type": "code",
   "execution_count": 101,
   "id": "203df1ea",
   "metadata": {},
   "outputs": [],
   "source": [
    "import numpy as np\n",
    "y = pd.DataFrame(np.random.randint(2, size=8844))"
   ]
  },
  {
   "cell_type": "code",
   "execution_count": 102,
   "id": "b84b6f36",
   "metadata": {
    "scrolled": true
   },
   "outputs": [
    {
     "data": {
      "text/html": [
       "<div>\n",
       "<style scoped>\n",
       "    .dataframe tbody tr th:only-of-type {\n",
       "        vertical-align: middle;\n",
       "    }\n",
       "\n",
       "    .dataframe tbody tr th {\n",
       "        vertical-align: top;\n",
       "    }\n",
       "\n",
       "    .dataframe thead th {\n",
       "        text-align: right;\n",
       "    }\n",
       "</style>\n",
       "<table border=\"1\" class=\"dataframe\">\n",
       "  <thead>\n",
       "    <tr style=\"text-align: right;\">\n",
       "      <th></th>\n",
       "      <th>0</th>\n",
       "    </tr>\n",
       "  </thead>\n",
       "  <tbody>\n",
       "    <tr>\n",
       "      <th>0</th>\n",
       "      <td>0</td>\n",
       "    </tr>\n",
       "    <tr>\n",
       "      <th>1</th>\n",
       "      <td>0</td>\n",
       "    </tr>\n",
       "    <tr>\n",
       "      <th>2</th>\n",
       "      <td>1</td>\n",
       "    </tr>\n",
       "    <tr>\n",
       "      <th>3</th>\n",
       "      <td>0</td>\n",
       "    </tr>\n",
       "    <tr>\n",
       "      <th>4</th>\n",
       "      <td>1</td>\n",
       "    </tr>\n",
       "  </tbody>\n",
       "</table>\n",
       "</div>"
      ],
      "text/plain": [
       "   0\n",
       "0  0\n",
       "1  0\n",
       "2  1\n",
       "3  0\n",
       "4  1"
      ]
     },
     "execution_count": 102,
     "metadata": {},
     "output_type": "execute_result"
    }
   ],
   "source": [
    "y.head()"
   ]
  },
  {
   "cell_type": "code",
   "execution_count": 103,
   "id": "2ba40bb9",
   "metadata": {},
   "outputs": [],
   "source": [
    "df = pd.concat((df_conc,y),axis=1, join='outer', ignore_index=False, keys=None, levels=None, names=None, verify_integrity=False, sort=False, copy=None)\n"
   ]
  },
  {
   "cell_type": "code",
   "execution_count": 104,
   "id": "0f558e80",
   "metadata": {},
   "outputs": [
    {
     "name": "stdout",
     "output_type": "stream",
     "text": [
      "(8844, 2)\n"
     ]
    },
    {
     "data": {
      "text/html": [
       "<div>\n",
       "<style scoped>\n",
       "    .dataframe tbody tr th:only-of-type {\n",
       "        vertical-align: middle;\n",
       "    }\n",
       "\n",
       "    .dataframe tbody tr th {\n",
       "        vertical-align: top;\n",
       "    }\n",
       "\n",
       "    .dataframe thead th {\n",
       "        text-align: right;\n",
       "    }\n",
       "</style>\n",
       "<table border=\"1\" class=\"dataframe\">\n",
       "  <thead>\n",
       "    <tr style=\"text-align: right;\">\n",
       "      <th></th>\n",
       "      <th>customerid</th>\n",
       "      <th>0</th>\n",
       "    </tr>\n",
       "  </thead>\n",
       "  <tbody>\n",
       "    <tr>\n",
       "      <th>0</th>\n",
       "      <td>8a858899538ddb8e015390510b321f08</td>\n",
       "      <td>0</td>\n",
       "    </tr>\n",
       "    <tr>\n",
       "      <th>1</th>\n",
       "      <td>8a858959537a097401537a4e316e25f7</td>\n",
       "      <td>0</td>\n",
       "    </tr>\n",
       "    <tr>\n",
       "      <th>2</th>\n",
       "      <td>8a8589c253ace09b0153af6ba58f1f31</td>\n",
       "      <td>1</td>\n",
       "    </tr>\n",
       "    <tr>\n",
       "      <th>3</th>\n",
       "      <td>8a858e095aae82b7015aae86ca1e030b</td>\n",
       "      <td>0</td>\n",
       "    </tr>\n",
       "    <tr>\n",
       "      <th>4</th>\n",
       "      <td>8a858e225a28c713015a30db5c48383d</td>\n",
       "      <td>1</td>\n",
       "    </tr>\n",
       "  </tbody>\n",
       "</table>\n",
       "</div>"
      ],
      "text/plain": [
       "                         customerid  0\n",
       "0  8a858899538ddb8e015390510b321f08  0\n",
       "1  8a858959537a097401537a4e316e25f7  0\n",
       "2  8a8589c253ace09b0153af6ba58f1f31  1\n",
       "3  8a858e095aae82b7015aae86ca1e030b  0\n",
       "4  8a858e225a28c713015a30db5c48383d  1"
      ]
     },
     "execution_count": 104,
     "metadata": {},
     "output_type": "execute_result"
    }
   ],
   "source": [
    "df = df.drop(\"index\", axis=1)\n",
    "print(df.shape)\n",
    "df.head()"
   ]
  },
  {
   "cell_type": "code",
   "execution_count": 105,
   "id": "1de0b6e3",
   "metadata": {},
   "outputs": [],
   "source": [
    "df_group = df.groupby(\"customerid\").mean().round().reset_index()"
   ]
  },
  {
   "cell_type": "code",
   "execution_count": 108,
   "id": "5773fcc1",
   "metadata": {
    "scrolled": true
   },
   "outputs": [
    {
     "data": {
      "text/html": [
       "<div>\n",
       "<style scoped>\n",
       "    .dataframe tbody tr th:only-of-type {\n",
       "        vertical-align: middle;\n",
       "    }\n",
       "\n",
       "    .dataframe tbody tr th {\n",
       "        vertical-align: top;\n",
       "    }\n",
       "\n",
       "    .dataframe thead th {\n",
       "        text-align: right;\n",
       "    }\n",
       "</style>\n",
       "<table border=\"1\" class=\"dataframe\">\n",
       "  <thead>\n",
       "    <tr style=\"text-align: right;\">\n",
       "      <th></th>\n",
       "      <th>customerid</th>\n",
       "      <th>0</th>\n",
       "    </tr>\n",
       "  </thead>\n",
       "  <tbody>\n",
       "    <tr>\n",
       "      <th>0</th>\n",
       "      <td>8a1edbf14734127f0147356fdb1b1eb2</td>\n",
       "      <td>1.0</td>\n",
       "    </tr>\n",
       "    <tr>\n",
       "      <th>1</th>\n",
       "      <td>8a28afc7474813a40147639ec637156b</td>\n",
       "      <td>0.0</td>\n",
       "    </tr>\n",
       "    <tr>\n",
       "      <th>2</th>\n",
       "      <td>8a2ac4745091002b0150a144bcbe58b7</td>\n",
       "      <td>0.0</td>\n",
       "    </tr>\n",
       "    <tr>\n",
       "      <th>3</th>\n",
       "      <td>8a3735d5518aba7301518ac34413010d</td>\n",
       "      <td>1.0</td>\n",
       "    </tr>\n",
       "    <tr>\n",
       "      <th>4</th>\n",
       "      <td>8a390a2150ad97330150aebdd8ef7456</td>\n",
       "      <td>0.0</td>\n",
       "    </tr>\n",
       "  </tbody>\n",
       "</table>\n",
       "</div>"
      ],
      "text/plain": [
       "                         customerid    0\n",
       "0  8a1edbf14734127f0147356fdb1b1eb2  1.0\n",
       "1  8a28afc7474813a40147639ec637156b  0.0\n",
       "2  8a2ac4745091002b0150a144bcbe58b7  0.0\n",
       "3  8a3735d5518aba7301518ac34413010d  1.0\n",
       "4  8a390a2150ad97330150aebdd8ef7456  0.0"
      ]
     },
     "execution_count": 108,
     "metadata": {},
     "output_type": "execute_result"
    }
   ],
   "source": [
    "df_group.head()"
   ]
  },
  {
   "cell_type": "code",
   "execution_count": 109,
   "id": "92d84925",
   "metadata": {},
   "outputs": [
    {
     "data": {
      "text/plain": [
       "(2549, 2)"
      ]
     },
     "execution_count": 109,
     "metadata": {},
     "output_type": "execute_result"
    }
   ],
   "source": [
    "df_group.shape"
   ]
  },
  {
   "cell_type": "code",
   "execution_count": 13,
   "id": "ee65b556",
   "metadata": {},
   "outputs": [],
   "source": [
    "ids = [\"8a818926522ea5ef01523aff15c37482\", \"8a818823525dceef01525deda2480384\", \"8a76e7d443e6e97c0143ed099d102b1d\", \"8a3735d5518aba7301518ac34413010d\", \"8a28afc7474813a40147639ec637156b\"]"
   ]
  },
  {
   "cell_type": "code",
   "execution_count": 114,
   "id": "61c889ab",
   "metadata": {},
   "outputs": [
    {
     "data": {
      "text/html": [
       "<div>\n",
       "<style scoped>\n",
       "    .dataframe tbody tr th:only-of-type {\n",
       "        vertical-align: middle;\n",
       "    }\n",
       "\n",
       "    .dataframe tbody tr th {\n",
       "        vertical-align: top;\n",
       "    }\n",
       "\n",
       "    .dataframe thead th {\n",
       "        text-align: right;\n",
       "    }\n",
       "</style>\n",
       "<table border=\"1\" class=\"dataframe\">\n",
       "  <thead>\n",
       "    <tr style=\"text-align: right;\">\n",
       "      <th></th>\n",
       "      <th>customerid</th>\n",
       "      <th>0</th>\n",
       "    </tr>\n",
       "  </thead>\n",
       "  <tbody>\n",
       "    <tr>\n",
       "      <th>10</th>\n",
       "      <td>8a818926522ea5ef01523aff15c37482</td>\n",
       "      <td>1.0</td>\n",
       "    </tr>\n",
       "  </tbody>\n",
       "</table>\n",
       "</div>"
      ],
      "text/plain": [
       "                          customerid    0\n",
       "10  8a818926522ea5ef01523aff15c37482  1.0"
      ]
     },
     "execution_count": 114,
     "metadata": {},
     "output_type": "execute_result"
    }
   ],
   "source": [
    "one = df_group[df_group[\"customerid\"]==\"8a818926522ea5ef01523aff15c37482\"]\n",
    "one"
   ]
  },
  {
   "cell_type": "code",
   "execution_count": 113,
   "id": "29988272",
   "metadata": {},
   "outputs": [
    {
     "data": {
      "text/html": [
       "<div>\n",
       "<style scoped>\n",
       "    .dataframe tbody tr th:only-of-type {\n",
       "        vertical-align: middle;\n",
       "    }\n",
       "\n",
       "    .dataframe tbody tr th {\n",
       "        vertical-align: top;\n",
       "    }\n",
       "\n",
       "    .dataframe thead th {\n",
       "        text-align: right;\n",
       "    }\n",
       "</style>\n",
       "<table border=\"1\" class=\"dataframe\">\n",
       "  <thead>\n",
       "    <tr style=\"text-align: right;\">\n",
       "      <th></th>\n",
       "      <th>customerid</th>\n",
       "      <th>0</th>\n",
       "    </tr>\n",
       "  </thead>\n",
       "  <tbody>\n",
       "    <tr>\n",
       "      <th>9</th>\n",
       "      <td>8a818823525dceef01525deda2480384</td>\n",
       "      <td>1.0</td>\n",
       "    </tr>\n",
       "  </tbody>\n",
       "</table>\n",
       "</div>"
      ],
      "text/plain": [
       "                         customerid    0\n",
       "9  8a818823525dceef01525deda2480384  1.0"
      ]
     },
     "execution_count": 113,
     "metadata": {},
     "output_type": "execute_result"
    }
   ],
   "source": [
    "one = df_group[df_group[\"customerid\"]==\"8a818823525dceef01525deda2480384\"]\n",
    "one"
   ]
  },
  {
   "cell_type": "code",
   "execution_count": 112,
   "id": "8aebe5b8",
   "metadata": {},
   "outputs": [
    {
     "data": {
      "text/html": [
       "<div>\n",
       "<style scoped>\n",
       "    .dataframe tbody tr th:only-of-type {\n",
       "        vertical-align: middle;\n",
       "    }\n",
       "\n",
       "    .dataframe tbody tr th {\n",
       "        vertical-align: top;\n",
       "    }\n",
       "\n",
       "    .dataframe thead th {\n",
       "        text-align: right;\n",
       "    }\n",
       "</style>\n",
       "<table border=\"1\" class=\"dataframe\">\n",
       "  <thead>\n",
       "    <tr style=\"text-align: right;\">\n",
       "      <th></th>\n",
       "      <th>customerid</th>\n",
       "      <th>0</th>\n",
       "    </tr>\n",
       "  </thead>\n",
       "  <tbody>\n",
       "    <tr>\n",
       "      <th>8</th>\n",
       "      <td>8a76e7d443e6e97c0143ed099d102b1d</td>\n",
       "      <td>1.0</td>\n",
       "    </tr>\n",
       "  </tbody>\n",
       "</table>\n",
       "</div>"
      ],
      "text/plain": [
       "                         customerid    0\n",
       "8  8a76e7d443e6e97c0143ed099d102b1d  1.0"
      ]
     },
     "execution_count": 112,
     "metadata": {},
     "output_type": "execute_result"
    }
   ],
   "source": [
    "one = df_group[df_group[\"customerid\"]==\"8a76e7d443e6e97c0143ed099d102b1d\"]\n",
    "one"
   ]
  },
  {
   "cell_type": "code",
   "execution_count": null,
   "id": "0c22554f",
   "metadata": {},
   "outputs": [],
   "source": [
    "\"8a3735d5518aba7301518ac34413010d\""
   ]
  },
  {
   "cell_type": "code",
   "execution_count": 111,
   "id": "94f016ac",
   "metadata": {},
   "outputs": [
    {
     "data": {
      "text/html": [
       "<div>\n",
       "<style scoped>\n",
       "    .dataframe tbody tr th:only-of-type {\n",
       "        vertical-align: middle;\n",
       "    }\n",
       "\n",
       "    .dataframe tbody tr th {\n",
       "        vertical-align: top;\n",
       "    }\n",
       "\n",
       "    .dataframe thead th {\n",
       "        text-align: right;\n",
       "    }\n",
       "</style>\n",
       "<table border=\"1\" class=\"dataframe\">\n",
       "  <thead>\n",
       "    <tr style=\"text-align: right;\">\n",
       "      <th></th>\n",
       "      <th>customerid</th>\n",
       "      <th>0</th>\n",
       "    </tr>\n",
       "  </thead>\n",
       "  <tbody>\n",
       "    <tr>\n",
       "      <th>1</th>\n",
       "      <td>8a28afc7474813a40147639ec637156b</td>\n",
       "      <td>0.0</td>\n",
       "    </tr>\n",
       "  </tbody>\n",
       "</table>\n",
       "</div>"
      ],
      "text/plain": [
       "                         customerid    0\n",
       "1  8a28afc7474813a40147639ec637156b  0.0"
      ]
     },
     "execution_count": 111,
     "metadata": {},
     "output_type": "execute_result"
    }
   ],
   "source": [
    "one = df_group[df_group[\"customerid\"]==\"8a28afc7474813a40147639ec637156b\"]\n",
    "one"
   ]
  },
  {
   "cell_type": "code",
   "execution_count": null,
   "id": "6dcbd1ff",
   "metadata": {},
   "outputs": [],
   "source": []
  },
  {
   "cell_type": "code",
   "execution_count": null,
   "id": "96e4fa68",
   "metadata": {},
   "outputs": [],
   "source": []
  },
  {
   "cell_type": "code",
   "execution_count": null,
   "id": "b87b906f",
   "metadata": {},
   "outputs": [],
   "source": []
  },
  {
   "cell_type": "code",
   "execution_count": null,
   "id": "6fc90fa7",
   "metadata": {},
   "outputs": [],
   "source": []
  },
  {
   "cell_type": "code",
   "execution_count": 110,
   "id": "dcfba208",
   "metadata": {},
   "outputs": [],
   "source": [
    "df_group.to_csv(\"df_group.csv\", index=False)"
   ]
  },
  {
   "cell_type": "code",
   "execution_count": null,
   "id": "e6b5d119",
   "metadata": {},
   "outputs": [],
   "source": []
  }
 ],
 "metadata": {
  "kernelspec": {
   "display_name": "Python 3 (ipykernel)",
   "language": "python",
   "name": "python3"
  },
  "language_info": {
   "codemirror_mode": {
    "name": "ipython",
    "version": 3
   },
   "file_extension": ".py",
   "mimetype": "text/x-python",
   "name": "python",
   "nbconvert_exporter": "python",
   "pygments_lexer": "ipython3",
   "version": "3.10.7"
  }
 },
 "nbformat": 4,
 "nbformat_minor": 5
}
